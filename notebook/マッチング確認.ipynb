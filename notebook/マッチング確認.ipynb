{
  "nbformat": 4,
  "nbformat_minor": 0,
  "metadata": {
    "kernelspec": {
      "name": "python3",
      "display_name": "Python 3"
    },
    "language_info": {
      "codemirror_mode": {
        "name": "ipython",
        "version": 3
      },
      "file_extension": ".py",
      "mimetype": "text/x-python",
      "name": "python",
      "nbconvert_exporter": "python",
      "pygments_lexer": "ipython3",
      "version": "3.6.8"
    },
    "colab": {
      "name": "check-extract-features.ipynb",
      "provenance": []
    },
    "accelerator": "GPU"
  },
  "cells": [
    {
      "cell_type": "code",
      "metadata": {
        "id": "rtUj9rhyW-Hg",
        "colab_type": "code",
        "colab": {}
      },
      "source": [
        "import configparser\n",
        "import glob\n",
        "import os\n",
        "import pandas as pd\n",
        "import subprocess\n",
        "import sys\n",
        "import tarfile \n",
        "from urllib.request import urlretrieve\n",
        "import json\n",
        "import tempfile\n",
        "import tensorflow as tf"
      ],
      "execution_count": 0,
      "outputs": []
    },
    {
      "cell_type": "code",
      "metadata": {
        "id": "HpL-FjDXXBIJ",
        "colab_type": "code",
        "outputId": "af73a2c1-44df-4c1f-d37d-b4f592bbc8ba",
        "colab": {
          "base_uri": "https://localhost:8080/",
          "height": 135
        }
      },
      "source": [
        "!git clone  https://github.com/HisakaKoji/bert-japanese.git"
      ],
      "execution_count": 25,
      "outputs": [
        {
          "output_type": "stream",
          "text": [
            "Cloning into 'bert-japanese'...\n",
            "remote: Enumerating objects: 19, done.\u001b[K\n",
            "remote: Counting objects:   5% (1/19)\u001b[K\rremote: Counting objects:  10% (2/19)\u001b[K\rremote: Counting objects:  15% (3/19)\u001b[K\rremote: Counting objects:  21% (4/19)\u001b[K\rremote: Counting objects:  26% (5/19)\u001b[K\rremote: Counting objects:  31% (6/19)\u001b[K\rremote: Counting objects:  36% (7/19)\u001b[K\rremote: Counting objects:  42% (8/19)\u001b[K\rremote: Counting objects:  47% (9/19)\u001b[K\rremote: Counting objects:  52% (10/19)\u001b[K\rremote: Counting objects:  57% (11/19)\u001b[K\rremote: Counting objects:  63% (12/19)\u001b[K\rremote: Counting objects:  68% (13/19)\u001b[K\rremote: Counting objects:  73% (14/19)\u001b[K\rremote: Counting objects:  78% (15/19)\u001b[K\rremote: Counting objects:  84% (16/19)\u001b[K\rremote: Counting objects:  89% (17/19)\u001b[K\rremote: Counting objects:  94% (18/19)\u001b[K\rremote: Counting objects: 100% (19/19)\u001b[K\rremote: Counting objects: 100% (19/19), done.\u001b[K\n",
            "remote: Compressing objects:   7% (1/13)\u001b[K\rremote: Compressing objects:  15% (2/13)\u001b[K\rremote: Compressing objects:  23% (3/13)\u001b[K\rremote: Compressing objects:  30% (4/13)\u001b[K\rremote: Compressing objects:  38% (5/13)\u001b[K\rremote: Compressing objects:  46% (6/13)\u001b[K\rremote: Compressing objects:  53% (7/13)\u001b[K\rremote: Compressing objects:  61% (8/13)\u001b[K\rremote: Compressing objects:  69% (9/13)\u001b[K\rremote: Compressing objects:  76% (10/13)\u001b[K\rremote: Compressing objects:  84% (11/13)\u001b[K\rremote: Compressing objects:  92% (12/13)\u001b[K\rremote: Compressing objects: 100% (13/13)\u001b[K\rremote: Compressing objects: 100% (13/13), done.\u001b[K\n",
            "Receiving objects:   0% (1/299)   \rReceiving objects:   1% (3/299)   \rReceiving objects:   2% (6/299)   \rReceiving objects:   3% (9/299)   \rReceiving objects:   4% (12/299)   \rReceiving objects:   5% (15/299)   \rReceiving objects:   6% (18/299)   \rReceiving objects:   7% (21/299)   \rReceiving objects:   8% (24/299)   \rReceiving objects:   9% (27/299)   \rReceiving objects:  10% (30/299)   \rReceiving objects:  11% (33/299)   \rReceiving objects:  12% (36/299)   \rReceiving objects:  13% (39/299)   \rReceiving objects:  14% (42/299)   \rReceiving objects:  15% (45/299)   \rReceiving objects:  16% (48/299)   \rReceiving objects:  17% (51/299)   \rReceiving objects:  18% (54/299)   \rReceiving objects:  19% (57/299)   \rReceiving objects:  20% (60/299)   \rReceiving objects:  21% (63/299)   \rReceiving objects:  22% (66/299)   \rReceiving objects:  23% (69/299)   \rReceiving objects:  24% (72/299)   \rReceiving objects:  25% (75/299)   \rReceiving objects:  26% (78/299)   \rReceiving objects:  27% (81/299)   \rReceiving objects:  28% (84/299)   \rReceiving objects:  29% (87/299)   \rReceiving objects:  30% (90/299)   \rReceiving objects:  31% (93/299)   \rReceiving objects:  32% (96/299)   \rReceiving objects:  33% (99/299)   \rReceiving objects:  34% (102/299)   \rReceiving objects:  35% (105/299)   \rReceiving objects:  36% (108/299)   \rReceiving objects:  37% (111/299)   \rReceiving objects:  38% (114/299)   \rReceiving objects:  39% (117/299)   \rReceiving objects:  40% (120/299)   \rReceiving objects:  41% (123/299)   \rReceiving objects:  42% (126/299)   \rReceiving objects:  43% (129/299)   \rReceiving objects:  44% (132/299)   \rReceiving objects:  45% (135/299)   \rReceiving objects:  46% (138/299)   \rReceiving objects:  47% (141/299)   \rReceiving objects:  48% (144/299)   \rReceiving objects:  49% (147/299)   \rReceiving objects:  50% (150/299)   \rReceiving objects:  51% (153/299)   \rReceiving objects:  52% (156/299)   \rReceiving objects:  53% (159/299)   \rReceiving objects:  54% (162/299)   \rReceiving objects:  55% (165/299)   \rReceiving objects:  56% (168/299)   \rReceiving objects:  57% (171/299)   \rReceiving objects:  58% (174/299)   \rReceiving objects:  59% (177/299)   \rReceiving objects:  60% (180/299)   \rReceiving objects:  61% (183/299)   \rReceiving objects:  62% (186/299)   \rReceiving objects:  63% (189/299)   \rReceiving objects:  64% (192/299)   \rReceiving objects:  65% (195/299)   \rReceiving objects:  66% (198/299)   \rReceiving objects:  67% (201/299)   \rReceiving objects:  68% (204/299)   \rReceiving objects:  69% (207/299)   \rReceiving objects:  70% (210/299)   \rReceiving objects:  71% (213/299)   \rReceiving objects:  72% (216/299)   \rReceiving objects:  73% (219/299)   \rReceiving objects:  74% (222/299)   \rReceiving objects:  75% (225/299)   \rremote: Total 299 (delta 10), reused 12 (delta 6), pack-reused 280\u001b[K\n",
            "Receiving objects:  76% (228/299)   \rReceiving objects:  77% (231/299)   \rReceiving objects:  78% (234/299)   \rReceiving objects:  79% (237/299)   \rReceiving objects:  80% (240/299)   \rReceiving objects:  81% (243/299)   \rReceiving objects:  82% (246/299)   \rReceiving objects:  83% (249/299)   \rReceiving objects:  84% (252/299)   \rReceiving objects:  85% (255/299)   \rReceiving objects:  86% (258/299)   \rReceiving objects:  87% (261/299)   \rReceiving objects:  88% (264/299)   \rReceiving objects:  89% (267/299)   \rReceiving objects:  90% (270/299)   \rReceiving objects:  91% (273/299)   \rReceiving objects:  92% (276/299)   \rReceiving objects:  93% (279/299)   \rReceiving objects:  94% (282/299)   \rReceiving objects:  95% (285/299)   \rReceiving objects:  96% (288/299)   \rReceiving objects:  97% (291/299)   \rReceiving objects:  98% (294/299)   \rReceiving objects:  99% (297/299)   \rReceiving objects: 100% (299/299)   \rReceiving objects: 100% (299/299), 465.42 KiB | 5.82 MiB/s, done.\n",
            "Resolving deltas:   0% (0/182)   \rResolving deltas:   1% (2/182)   \rResolving deltas:   3% (7/182)   \rResolving deltas:   4% (8/182)   \rResolving deltas:   6% (11/182)   \rResolving deltas:   8% (15/182)   \rResolving deltas:  10% (19/182)   \rResolving deltas:  13% (24/182)   \rResolving deltas:  14% (27/182)   \rResolving deltas:  17% (32/182)   \rResolving deltas:  38% (70/182)   \rResolving deltas:  40% (74/182)   \rResolving deltas:  45% (83/182)   \rResolving deltas:  47% (86/182)   \rResolving deltas:  49% (90/182)   \rResolving deltas:  56% (103/182)   \rResolving deltas:  81% (148/182)   \rResolving deltas:  88% (161/182)   \rResolving deltas:  90% (165/182)   \rResolving deltas:  92% (168/182)   \rResolving deltas:  93% (171/182)   \rResolving deltas: 100% (182/182)   \rResolving deltas: 100% (182/182), done.\n"
          ],
          "name": "stdout"
        }
      ]
    },
    {
      "cell_type": "code",
      "metadata": {
        "id": "ZZcEz-PdXG1F",
        "colab_type": "code",
        "outputId": "cea62645-e363-4501-ff88-9cf6aadab02a",
        "colab": {
          "base_uri": "https://localhost:8080/",
          "height": 34
        }
      },
      "source": [
        "%cd /content/bert-japanese/"
      ],
      "execution_count": 26,
      "outputs": [
        {
          "output_type": "stream",
          "text": [
            "/content/bert-japanese\n"
          ],
          "name": "stdout"
        }
      ]
    },
    {
      "cell_type": "code",
      "metadata": {
        "id": "UPJ4YSK-XJm0",
        "colab_type": "code",
        "outputId": "58d7db61-70f6-4759-c1cc-7648cd3d0466",
        "colab": {
          "base_uri": "https://localhost:8080/",
          "height": 34
        }
      },
      "source": [
        "!git clone https://github.com/google-research/bert.git"
      ],
      "execution_count": 27,
      "outputs": [
        {
          "output_type": "stream",
          "text": [
            "fatal: destination path 'bert' already exists and is not an empty directory.\n"
          ],
          "name": "stdout"
        }
      ]
    },
    {
      "cell_type": "code",
      "metadata": {
        "id": "O4c63Ed8XMyu",
        "colab_type": "code",
        "outputId": "232fd2fd-a493-419d-c69e-412b699082f2",
        "colab": {
          "base_uri": "https://localhost:8080/",
          "height": 34
        }
      },
      "source": [
        "%cd .."
      ],
      "execution_count": 28,
      "outputs": [
        {
          "output_type": "stream",
          "text": [
            "/content\n"
          ],
          "name": "stdout"
        }
      ]
    },
    {
      "cell_type": "code",
      "metadata": {
        "id": "Tx2pMftcXPvM",
        "colab_type": "code",
        "colab": {}
      },
      "source": [
        "!pip install -q -r bert-japanese/requirements.txt"
      ],
      "execution_count": 0,
      "outputs": []
    },
    {
      "cell_type": "code",
      "metadata": {
        "id": "MgiQG6kHXWGv",
        "colab_type": "code",
        "outputId": "5f41389d-7724-49c8-e627-928018b740ed",
        "colab": {
          "base_uri": "https://localhost:8080/",
          "height": 34
        }
      },
      "source": [
        "%cd bert-japanese/notebook"
      ],
      "execution_count": 30,
      "outputs": [
        {
          "output_type": "stream",
          "text": [
            "/content/bert-japanese/notebook\n"
          ],
          "name": "stdout"
        }
      ]
    },
    {
      "cell_type": "code",
      "metadata": {
        "id": "F_w263oyW-Hn",
        "colab_type": "code",
        "colab": {}
      },
      "source": [
        "sys.path.append(\"../src\")\n",
        "from utils import str_to_value"
      ],
      "execution_count": 0,
      "outputs": []
    },
    {
      "cell_type": "code",
      "metadata": {
        "id": "mZR7LV4YW-Hq",
        "colab_type": "code",
        "colab": {}
      },
      "source": [
        "sys.path.append(\"../bert\")\n",
        "import modeling"
      ],
      "execution_count": 0,
      "outputs": []
    },
    {
      "cell_type": "code",
      "metadata": {
        "id": "VbNAG6qIW-Ht",
        "colab_type": "code",
        "outputId": "c5153a02-d9b8-4eef-821a-9ad12323e87a",
        "colab": {
          "base_uri": "https://localhost:8080/",
          "height": 34
        }
      },
      "source": [
        "CURDIR = os.getcwd()\n",
        "CONFIGPATH = os.path.join(CURDIR, os.pardir, 'config.ini')\n",
        "config = configparser.ConfigParser()\n",
        "config.read(CONFIGPATH)"
      ],
      "execution_count": 33,
      "outputs": [
        {
          "output_type": "execute_result",
          "data": {
            "text/plain": [
              "['/content/bert-japanese/notebook/../config.ini']"
            ]
          },
          "metadata": {
            "tags": []
          },
          "execution_count": 33
        }
      ]
    },
    {
      "cell_type": "code",
      "metadata": {
        "id": "sE4pkQwmXiMD",
        "colab_type": "code",
        "colab": {}
      },
      "source": [
        "from google.colab import auth\n",
        "auth.authenticate_user()"
      ],
      "execution_count": 0,
      "outputs": []
    },
    {
      "cell_type": "code",
      "metadata": {
        "id": "_3yQU3YvXqCh",
        "colab_type": "code",
        "outputId": "8d3c92e7-c556-4d3f-8261-a3b12ca9195a",
        "colab": {
          "base_uri": "https://localhost:8080/",
          "height": 118
        }
      },
      "source": [
        "!gsutil cp gs://hisaka/model/wiki-ja.model /content/bert-japanese/model/\n",
        "!gsutil cp gs://hisaka/model/wiki-ja.vocab /content/bert-japanese/model/"
      ],
      "execution_count": 35,
      "outputs": [
        {
          "output_type": "stream",
          "text": [
            "Copying gs://hisaka/model/wiki-ja.model...\n",
            "/ [0 files][    0.0 B/786.8 KiB]                                                \r/ [1 files][786.8 KiB/786.8 KiB]                                                \r\n",
            "Operation completed over 1 objects/786.8 KiB.                                    \n",
            "Copying gs://hisaka/model/wiki-ja.vocab...\n",
            "/ [1 files][581.7 KiB/581.7 KiB]                                                \n",
            "Operation completed over 1 objects/581.7 KiB.                                    \n"
          ],
          "name": "stdout"
        }
      ]
    },
    {
      "cell_type": "code",
      "metadata": {
        "id": "QJzqoGBM7QIW",
        "colab_type": "code",
        "outputId": "fb689180-ca89-4438-b48c-f6816e788a67",
        "colab": {
          "base_uri": "https://localhost:8080/",
          "height": 101
        }
      },
      "source": [
        "!gsutil cp gs://hisaka/model/model.ckpt-1400000* /content/bert-japanese/model/"
      ],
      "execution_count": 36,
      "outputs": [
        {
          "output_type": "stream",
          "text": [
            "Copying gs://hisaka/model/model.ckpt-1400000.data-00000-of-00001...\n",
            "Copying gs://hisaka/model/model.ckpt-1400000.index...\n",
            "Copying gs://hisaka/model/model.ckpt-1400000.meta...\n",
            "\\ [3 files][  1.3 GiB/  1.3 GiB]   52.0 MiB/s                                   \n",
            "Operation completed over 3 objects/1.3 GiB.                                      \n"
          ],
          "name": "stdout"
        }
      ]
    },
    {
      "cell_type": "code",
      "metadata": {
        "id": "bjfy53HyW-Hy",
        "colab_type": "code",
        "colab": {}
      },
      "source": [
        "FILEURL = config['FINETUNING-DATA']['FILEURL']\n",
        "FILEPATH = config['FINETUNING-DATA']['FILEPATH']\n",
        "EXTRACTDIR = config['FINETUNING-DATA']['TEXTDIR']"
      ],
      "execution_count": 0,
      "outputs": []
    },
    {
      "cell_type": "code",
      "metadata": {
        "id": "z0uoxm61W-H1",
        "colab_type": "code",
        "colab": {}
      },
      "source": [
        "PRETRAINED_MODEL_PATH = '/content/bert-japanese/model/model.ckpt-1400000'"
      ],
      "execution_count": 0,
      "outputs": []
    },
    {
      "cell_type": "code",
      "metadata": {
        "id": "4WoYFIaTW-H5",
        "colab_type": "code",
        "colab": {}
      },
      "source": [
        "bert_config_file = tempfile.NamedTemporaryFile(mode='w+t', encoding='utf-8', suffix='.json')\n",
        "bert_config_file.write(json.dumps({k:str_to_value(v) for k,v in config['BERT-CONFIG'].items()}))\n",
        "bert_config_file.seek(0)\n",
        "bert_config_file_path = str(bert_config_file.name)\n",
        "bert_config = modeling.BertConfig.from_json_file(bert_config_file.name)"
      ],
      "execution_count": 0,
      "outputs": []
    },
    {
      "cell_type": "code",
      "metadata": {
        "id": "Nhez8PnaW-H8",
        "colab_type": "code",
        "colab": {}
      },
      "source": [
        "!echo '政府への抗議活動が続く香港で１日午後、数千人規模のデモ隊が香港国際空港の周辺に集まり、ターミナルを包囲した。出入り口にバリケードを築くなどして空港利用者にも影響が出たが、約２時間後に警察が排除した。デモとの関係は不明だが、出発が数時間遅れた便もあり、空のダイヤに乱れが生じた。' > /tmp/input.txt"
      ],
      "execution_count": 0,
      "outputs": []
    },
    {
      "cell_type": "code",
      "metadata": {
        "id": "sS0zZ-7dVsnZ",
        "colab_type": "code",
        "colab": {}
      },
      "source": [
        ""
      ],
      "execution_count": 0,
      "outputs": []
    },
    {
      "cell_type": "code",
      "metadata": {
        "id": "hYM9SZStQAZA",
        "colab_type": "code",
        "outputId": "330b0276-87c6-4d9a-d23f-ea880e3a0702",
        "colab": {
          "base_uri": "https://localhost:8080/",
          "height": 34
        }
      },
      "source": [
        "!git pull"
      ],
      "execution_count": 41,
      "outputs": [
        {
          "output_type": "stream",
          "text": [
            "Already up to date.\n"
          ],
          "name": "stdout"
        }
      ]
    },
    {
      "cell_type": "code",
      "metadata": {
        "scrolled": true,
        "id": "paUf1h5zW-H_",
        "colab_type": "code",
        "outputId": "1507275d-8d73-4df9-87a8-c1e1aeb9441d",
        "colab": {
          "base_uri": "https://localhost:8080/",
          "height": 1000
        }
      },
      "source": [
        "!python ../src/extract_features.py \\\n",
        "  --input_file=./test.txt \\\n",
        "  --output_file=./output.txt \\\n",
        "  --vocab_file=../model/wiki-ja.vocab \\\n",
        "  --model_file=../model/wiki-ja.model \\\n",
        "  --bert_config_file={bert_config_file.name} \\\n",
        "  --init_checkpoint={PRETRAINED_MODEL_PATH} \\\n",
        "  --layers=-1,-2,-3,-4 \\\n",
        "  --max_seq_length=128 \\\n",
        "  --batch_size=8"
      ],
      "execution_count": 82,
      "outputs": [
        {
          "output_type": "stream",
          "text": [
            "WARNING:tensorflow:From ../src/extract_features.py:442: The name tf.app.run is deprecated. Please use tf.compat.v1.app.run instead.\n",
            "\n",
            "WARNING:tensorflow:From ../bert/modeling.py:93: The name tf.gfile.GFile is deprecated. Please use tf.io.gfile.GFile instead.\n",
            "\n",
            "W0204 04:14:59.098333 140126425450368 module_wrapper.py:139] From ../bert/modeling.py:93: The name tf.gfile.GFile is deprecated. Please use tf.io.gfile.GFile instead.\n",
            "\n",
            "Loaded a trained SentencePiece model.\n",
            "WARNING:tensorflow:\n",
            "The TensorFlow contrib module will not be included in TensorFlow 2.0.\n",
            "For more information, please see:\n",
            "  * https://github.com/tensorflow/community/blob/master/rfcs/20180907-contrib-sunset.md\n",
            "  * https://github.com/tensorflow/addons\n",
            "  * https://github.com/tensorflow/io (for I/O related ops)\n",
            "If you depend on functionality not listed there, please file an issue.\n",
            "\n",
            "W0204 04:14:59.266746 140126425450368 lazy_loader.py:50] \n",
            "The TensorFlow contrib module will not be included in TensorFlow 2.0.\n",
            "For more information, please see:\n",
            "  * https://github.com/tensorflow/community/blob/master/rfcs/20180907-contrib-sunset.md\n",
            "  * https://github.com/tensorflow/addons\n",
            "  * https://github.com/tensorflow/io (for I/O related ops)\n",
            "If you depend on functionality not listed there, please file an issue.\n",
            "\n",
            "I0204 04:14:59.723512 140126425450368 utils.py:141] NumExpr defaulting to 2 threads.\n",
            "WARNING:tensorflow:From ../src/extract_features.py:292: The name tf.logging.info is deprecated. Please use tf.compat.v1.logging.info instead.\n",
            "\n",
            "W0204 04:15:00.134720 140126425450368 module_wrapper.py:139] From ../src/extract_features.py:292: The name tf.logging.info is deprecated. Please use tf.compat.v1.logging.info instead.\n",
            "\n",
            "INFO:tensorflow:*** Example ***\n",
            "I0204 04:15:00.134974 140126425450368 extract_features.py:292] *** Example ***\n",
            "INFO:tensorflow:unique_id: 0\n",
            "I0204 04:15:00.135085 140126425450368 extract_features.py:293] unique_id: 0\n",
            "INFO:tensorflow:tokens: [CLS] ▁ 新鮮な 湯 を 惜し げ もなく 、 加 水 なし の 掛け 流し ( 加 温 ) で 使 って います 。 ▁ 湯 来 温泉 [SEP]\n",
            "I0204 04:15:00.135187 140126425450368 extract_features.py:295] tokens: [CLS] ▁ 新鮮な 湯 を 惜し げ もなく 、 加 水 なし の 掛け 流し ( 加 温 ) で 使 って います 。 ▁ 湯 来 温泉 [SEP]\n",
            "INFO:tensorflow:input_ids: 4 9 30719 1881 18 19824 2436 5634 7 1117 164 2935 10 3976 17743 15 1117 2595 14 19 2143 341 19433 8 9 1881 1108 1777 5 0 0 0 0 0 0 0 0 0 0 0 0 0 0 0 0 0 0 0 0 0 0 0 0 0 0 0 0 0 0 0 0 0 0 0 0 0 0 0 0 0 0 0 0 0 0 0 0 0 0 0 0 0 0 0 0 0 0 0 0 0 0 0 0 0 0 0 0 0 0 0 0 0 0 0 0 0 0 0 0 0 0 0 0 0 0 0 0 0 0 0 0 0 0 0 0 0 0 0\n",
            "I0204 04:15:00.135317 140126425450368 extract_features.py:296] input_ids: 4 9 30719 1881 18 19824 2436 5634 7 1117 164 2935 10 3976 17743 15 1117 2595 14 19 2143 341 19433 8 9 1881 1108 1777 5 0 0 0 0 0 0 0 0 0 0 0 0 0 0 0 0 0 0 0 0 0 0 0 0 0 0 0 0 0 0 0 0 0 0 0 0 0 0 0 0 0 0 0 0 0 0 0 0 0 0 0 0 0 0 0 0 0 0 0 0 0 0 0 0 0 0 0 0 0 0 0 0 0 0 0 0 0 0 0 0 0 0 0 0 0 0 0 0 0 0 0 0 0 0 0 0 0 0 0\n",
            "INFO:tensorflow:input_mask: 1 1 1 1 1 1 1 1 1 1 1 1 1 1 1 1 1 1 1 1 1 1 1 1 1 1 1 1 1 0 0 0 0 0 0 0 0 0 0 0 0 0 0 0 0 0 0 0 0 0 0 0 0 0 0 0 0 0 0 0 0 0 0 0 0 0 0 0 0 0 0 0 0 0 0 0 0 0 0 0 0 0 0 0 0 0 0 0 0 0 0 0 0 0 0 0 0 0 0 0 0 0 0 0 0 0 0 0 0 0 0 0 0 0 0 0 0 0 0 0 0 0 0 0 0 0 0 0\n",
            "I0204 04:15:00.135446 140126425450368 extract_features.py:297] input_mask: 1 1 1 1 1 1 1 1 1 1 1 1 1 1 1 1 1 1 1 1 1 1 1 1 1 1 1 1 1 0 0 0 0 0 0 0 0 0 0 0 0 0 0 0 0 0 0 0 0 0 0 0 0 0 0 0 0 0 0 0 0 0 0 0 0 0 0 0 0 0 0 0 0 0 0 0 0 0 0 0 0 0 0 0 0 0 0 0 0 0 0 0 0 0 0 0 0 0 0 0 0 0 0 0 0 0 0 0 0 0 0 0 0 0 0 0 0 0 0 0 0 0 0 0 0 0 0 0\n",
            "INFO:tensorflow:input_type_ids: 0 0 0 0 0 0 0 0 0 0 0 0 0 0 0 0 0 0 0 0 0 0 0 0 0 0 0 0 0 0 0 0 0 0 0 0 0 0 0 0 0 0 0 0 0 0 0 0 0 0 0 0 0 0 0 0 0 0 0 0 0 0 0 0 0 0 0 0 0 0 0 0 0 0 0 0 0 0 0 0 0 0 0 0 0 0 0 0 0 0 0 0 0 0 0 0 0 0 0 0 0 0 0 0 0 0 0 0 0 0 0 0 0 0 0 0 0 0 0 0 0 0 0 0 0 0 0 0\n",
            "I0204 04:15:00.135567 140126425450368 extract_features.py:299] input_type_ids: 0 0 0 0 0 0 0 0 0 0 0 0 0 0 0 0 0 0 0 0 0 0 0 0 0 0 0 0 0 0 0 0 0 0 0 0 0 0 0 0 0 0 0 0 0 0 0 0 0 0 0 0 0 0 0 0 0 0 0 0 0 0 0 0 0 0 0 0 0 0 0 0 0 0 0 0 0 0 0 0 0 0 0 0 0 0 0 0 0 0 0 0 0 0 0 0 0 0 0 0 0 0 0 0 0 0 0 0 0 0 0 0 0 0 0 0 0 0 0 0 0 0 0 0 0 0 0 0\n",
            "INFO:tensorflow:*** Example ***\n",
            "I0204 04:15:00.135760 140126425450368 extract_features.py:292] *** Example ***\n",
            "INFO:tensorflow:unique_id: 1\n",
            "I0204 04:15:00.135863 140126425450368 extract_features.py:293] unique_id: 1\n",
            "INFO:tensorflow:tokens: [CLS] ▁ 尾道 水道 を へ だ て た 対岸 。 造船所 , 尾道 の 夜 景 が 絶 景 。 ▁ 向 島 [SEP]\n",
            "I0204 04:15:00.135979 140126425450368 extract_features.py:295] tokens: [CLS] ▁ 尾道 水道 を へ だ て た 対岸 。 造船所 , 尾道 の 夜 景 が 絶 景 。 ▁ 向 島 [SEP]\n",
            "INFO:tensorflow:input_ids: 4 9 22725 6145 18 90 314 58 40 12921 8 8072 83 22725 10 1090 1655 12 2348 1655 8 9 1669 155 5 0 0 0 0 0 0 0 0 0 0 0 0 0 0 0 0 0 0 0 0 0 0 0 0 0 0 0 0 0 0 0 0 0 0 0 0 0 0 0 0 0 0 0 0 0 0 0 0 0 0 0 0 0 0 0 0 0 0 0 0 0 0 0 0 0 0 0 0 0 0 0 0 0 0 0 0 0 0 0 0 0 0 0 0 0 0 0 0 0 0 0 0 0 0 0 0 0 0 0 0 0 0 0\n",
            "I0204 04:15:00.136092 140126425450368 extract_features.py:296] input_ids: 4 9 22725 6145 18 90 314 58 40 12921 8 8072 83 22725 10 1090 1655 12 2348 1655 8 9 1669 155 5 0 0 0 0 0 0 0 0 0 0 0 0 0 0 0 0 0 0 0 0 0 0 0 0 0 0 0 0 0 0 0 0 0 0 0 0 0 0 0 0 0 0 0 0 0 0 0 0 0 0 0 0 0 0 0 0 0 0 0 0 0 0 0 0 0 0 0 0 0 0 0 0 0 0 0 0 0 0 0 0 0 0 0 0 0 0 0 0 0 0 0 0 0 0 0 0 0 0 0 0 0 0 0\n",
            "INFO:tensorflow:input_mask: 1 1 1 1 1 1 1 1 1 1 1 1 1 1 1 1 1 1 1 1 1 1 1 1 1 0 0 0 0 0 0 0 0 0 0 0 0 0 0 0 0 0 0 0 0 0 0 0 0 0 0 0 0 0 0 0 0 0 0 0 0 0 0 0 0 0 0 0 0 0 0 0 0 0 0 0 0 0 0 0 0 0 0 0 0 0 0 0 0 0 0 0 0 0 0 0 0 0 0 0 0 0 0 0 0 0 0 0 0 0 0 0 0 0 0 0 0 0 0 0 0 0 0 0 0 0 0 0\n",
            "I0204 04:15:00.136206 140126425450368 extract_features.py:297] input_mask: 1 1 1 1 1 1 1 1 1 1 1 1 1 1 1 1 1 1 1 1 1 1 1 1 1 0 0 0 0 0 0 0 0 0 0 0 0 0 0 0 0 0 0 0 0 0 0 0 0 0 0 0 0 0 0 0 0 0 0 0 0 0 0 0 0 0 0 0 0 0 0 0 0 0 0 0 0 0 0 0 0 0 0 0 0 0 0 0 0 0 0 0 0 0 0 0 0 0 0 0 0 0 0 0 0 0 0 0 0 0 0 0 0 0 0 0 0 0 0 0 0 0 0 0 0 0 0 0\n",
            "INFO:tensorflow:input_type_ids: 0 0 0 0 0 0 0 0 0 0 0 0 0 0 0 0 0 0 0 0 0 0 0 0 0 0 0 0 0 0 0 0 0 0 0 0 0 0 0 0 0 0 0 0 0 0 0 0 0 0 0 0 0 0 0 0 0 0 0 0 0 0 0 0 0 0 0 0 0 0 0 0 0 0 0 0 0 0 0 0 0 0 0 0 0 0 0 0 0 0 0 0 0 0 0 0 0 0 0 0 0 0 0 0 0 0 0 0 0 0 0 0 0 0 0 0 0 0 0 0 0 0 0 0 0 0 0 0\n",
            "I0204 04:15:00.136317 140126425450368 extract_features.py:299] input_type_ids: 0 0 0 0 0 0 0 0 0 0 0 0 0 0 0 0 0 0 0 0 0 0 0 0 0 0 0 0 0 0 0 0 0 0 0 0 0 0 0 0 0 0 0 0 0 0 0 0 0 0 0 0 0 0 0 0 0 0 0 0 0 0 0 0 0 0 0 0 0 0 0 0 0 0 0 0 0 0 0 0 0 0 0 0 0 0 0 0 0 0 0 0 0 0 0 0 0 0 0 0 0 0 0 0 0 0 0 0 0 0 0 0 0 0 0 0 0 0 0 0 0 0 0 0 0 0 0 0\n",
            "INFO:tensorflow:*** Example ***\n",
            "I0204 04:15:00.136624 140126425450368 extract_features.py:292] *** Example ***\n",
            "INFO:tensorflow:unique_id: 2\n",
            "I0204 04:15:00.136753 140126425450368 extract_features.py:293] unique_id: 2\n",
            "INFO:tensorflow:tokens: [CLS] ▁ 広島県 宮 島の 対岸 ▁ 天然 温泉 宮 浜 ▁ べ に まん さく の 湯 。 大野 の 海 を 眺め ながら 、 ゆる りと 温泉 に 浸 か っていた だけ ます 。 露 天 風呂 や 檜 風呂 、 サウ ナ 、 足 湯 まで 、 様々な 種類の お 風呂 を お 愉 し み ください 。 お 風呂 あがり には 、 ぜ ひ 『 レストラン 湯 屋 わた や 』 での 食事 も お 楽しみ いた だけ ます 。 ▁ 天然 温泉 ▁ 宮 浜 ▁ べ に まん さく の 湯 [SEP]\n",
            "I0204 04:15:00.136873 140126425450368 extract_features.py:295] tokens: [CLS] ▁ 広島県 宮 島の 対岸 ▁ 天然 温泉 宮 浜 ▁ べ に まん さく の 湯 。 大野 の 海 を 眺め ながら 、 ゆる りと 温泉 に 浸 か っていた だけ ます 。 露 天 風呂 や 檜 風呂 、 サウ ナ 、 足 湯 まで 、 様々な 種類の お 風呂 を お 愉 し み ください 。 お 風呂 あがり には 、 ぜ ひ 『 レストラン 湯 屋 わた や 』 での 食事 も お 楽しみ いた だけ ます 。 ▁ 天然 温泉 ▁ 宮 浜 ▁ べ に まん さく の 湯 [SEP]\n",
            "INFO:tensorflow:input_ids: 4 9 5304 443 3100 12921 9 6156 1777 443 1734 9 1720 17 9363 12028 10 1881 8 7573 10 300 18 19970 527 7 17276 13788 1777 17 11406 95 921 926 3418 8 3409 427 15894 26 21485 15894 7 10137 145 7 744 1881 109 7 686 3800 220 15894 18 220 30263 32 206 19120 8 220 15894 30702 42 7 8840 1155 39 5138 1881 495 16253 26 36 408 6142 30 220 19116 308 926 3418 8 9 6156 1777 9 443 1734 9 1720 17 9363 12028 10 1881 5 0 0 0 0 0 0 0 0 0 0 0 0 0 0 0 0 0 0 0 0 0 0 0 0 0 0 0 0 0 0\n",
            "I0204 04:15:00.137012 140126425450368 extract_features.py:296] input_ids: 4 9 5304 443 3100 12921 9 6156 1777 443 1734 9 1720 17 9363 12028 10 1881 8 7573 10 300 18 19970 527 7 17276 13788 1777 17 11406 95 921 926 3418 8 3409 427 15894 26 21485 15894 7 10137 145 7 744 1881 109 7 686 3800 220 15894 18 220 30263 32 206 19120 8 220 15894 30702 42 7 8840 1155 39 5138 1881 495 16253 26 36 408 6142 30 220 19116 308 926 3418 8 9 6156 1777 9 443 1734 9 1720 17 9363 12028 10 1881 5 0 0 0 0 0 0 0 0 0 0 0 0 0 0 0 0 0 0 0 0 0 0 0 0 0 0 0 0 0 0\n",
            "INFO:tensorflow:input_mask: 1 1 1 1 1 1 1 1 1 1 1 1 1 1 1 1 1 1 1 1 1 1 1 1 1 1 1 1 1 1 1 1 1 1 1 1 1 1 1 1 1 1 1 1 1 1 1 1 1 1 1 1 1 1 1 1 1 1 1 1 1 1 1 1 1 1 1 1 1 1 1 1 1 1 1 1 1 1 1 1 1 1 1 1 1 1 1 1 1 1 1 1 1 1 1 1 1 1 0 0 0 0 0 0 0 0 0 0 0 0 0 0 0 0 0 0 0 0 0 0 0 0 0 0 0 0 0 0\n",
            "I0204 04:15:00.137126 140126425450368 extract_features.py:297] input_mask: 1 1 1 1 1 1 1 1 1 1 1 1 1 1 1 1 1 1 1 1 1 1 1 1 1 1 1 1 1 1 1 1 1 1 1 1 1 1 1 1 1 1 1 1 1 1 1 1 1 1 1 1 1 1 1 1 1 1 1 1 1 1 1 1 1 1 1 1 1 1 1 1 1 1 1 1 1 1 1 1 1 1 1 1 1 1 1 1 1 1 1 1 1 1 1 1 1 1 0 0 0 0 0 0 0 0 0 0 0 0 0 0 0 0 0 0 0 0 0 0 0 0 0 0 0 0 0 0\n",
            "INFO:tensorflow:input_type_ids: 0 0 0 0 0 0 0 0 0 0 0 0 0 0 0 0 0 0 0 0 0 0 0 0 0 0 0 0 0 0 0 0 0 0 0 0 0 0 0 0 0 0 0 0 0 0 0 0 0 0 0 0 0 0 0 0 0 0 0 0 0 0 0 0 0 0 0 0 0 0 0 0 0 0 0 0 0 0 0 0 0 0 0 0 0 0 0 0 0 0 0 0 0 0 0 0 0 0 0 0 0 0 0 0 0 0 0 0 0 0 0 0 0 0 0 0 0 0 0 0 0 0 0 0 0 0 0 0\n",
            "I0204 04:15:00.137237 140126425450368 extract_features.py:299] input_type_ids: 0 0 0 0 0 0 0 0 0 0 0 0 0 0 0 0 0 0 0 0 0 0 0 0 0 0 0 0 0 0 0 0 0 0 0 0 0 0 0 0 0 0 0 0 0 0 0 0 0 0 0 0 0 0 0 0 0 0 0 0 0 0 0 0 0 0 0 0 0 0 0 0 0 0 0 0 0 0 0 0 0 0 0 0 0 0 0 0 0 0 0 0 0 0 0 0 0 0 0 0 0 0 0 0 0 0 0 0 0 0 0 0 0 0 0 0 0 0 0 0 0 0 0 0 0 0 0 0\n",
            "INFO:tensorflow:*** Example ***\n",
            "I0204 04:15:00.137518 140126425450368 extract_features.py:292] *** Example ***\n",
            "INFO:tensorflow:unique_id: 3\n",
            "I0204 04:15:00.137610 140126425450368 extract_features.py:293] unique_id: 3\n",
            "INFO:tensorflow:tokens: [CLS] ▁ 須 佐 之 男 命を 祭 る 古い 大社 で , 備後 三大 祇園 の一つ 。 社 宝 の 「 大 神輿 」 は 広島県 重要文化財 に指定され , 高さ 3.4 m , 幅 2.1 m , 重さ 1.5 t の大きな ものである 。 地元 では 「 お ご っ さん 」 と呼ばれ 親しまれている 。 ▁ 須 佐 神社 [SEP]\n",
            "I0204 04:15:00.137704 140126425450368 extract_features.py:295] tokens: [CLS] ▁ 須 佐 之 男 命を 祭 る 古い 大社 で , 備後 三大 祇園 の一つ 。 社 宝 の 「 大 神輿 」 は 広島県 重要文化財 に指定され , 高さ 3.4 m , 幅 2.1 m , 重さ 1.5 t の大きな ものである 。 地元 では 「 お ご っ さん 」 と呼ばれ 親しまれている 。 ▁ 須 佐 神社 [SEP]\n",
            "INFO:tensorflow:input_ids: 4 9 4364 1558 834 629 14996 1142 56 2947 13756 19 83 26161 14736 20770 1201 8 277 1643 10 23 62 25250 21 11 5304 22108 12131 83 3560 23525 85 83 1549 16592 85 83 20429 5857 214 11901 753 8 1868 38 23 220 913 1315 774 21 2746 25744 8 9 4364 1558 955 5 0 0 0 0 0 0 0 0 0 0 0 0 0 0 0 0 0 0 0 0 0 0 0 0 0 0 0 0 0 0 0 0 0 0 0 0 0 0 0 0 0 0 0 0 0 0 0 0 0 0 0 0 0 0 0 0 0 0 0 0 0 0 0 0 0 0 0 0\n",
            "I0204 04:15:00.137836 140126425450368 extract_features.py:296] input_ids: 4 9 4364 1558 834 629 14996 1142 56 2947 13756 19 83 26161 14736 20770 1201 8 277 1643 10 23 62 25250 21 11 5304 22108 12131 83 3560 23525 85 83 1549 16592 85 83 20429 5857 214 11901 753 8 1868 38 23 220 913 1315 774 21 2746 25744 8 9 4364 1558 955 5 0 0 0 0 0 0 0 0 0 0 0 0 0 0 0 0 0 0 0 0 0 0 0 0 0 0 0 0 0 0 0 0 0 0 0 0 0 0 0 0 0 0 0 0 0 0 0 0 0 0 0 0 0 0 0 0 0 0 0 0 0 0 0 0 0 0 0 0\n",
            "INFO:tensorflow:input_mask: 1 1 1 1 1 1 1 1 1 1 1 1 1 1 1 1 1 1 1 1 1 1 1 1 1 1 1 1 1 1 1 1 1 1 1 1 1 1 1 1 1 1 1 1 1 1 1 1 1 1 1 1 1 1 1 1 1 1 1 1 0 0 0 0 0 0 0 0 0 0 0 0 0 0 0 0 0 0 0 0 0 0 0 0 0 0 0 0 0 0 0 0 0 0 0 0 0 0 0 0 0 0 0 0 0 0 0 0 0 0 0 0 0 0 0 0 0 0 0 0 0 0 0 0 0 0 0 0\n",
            "I0204 04:15:00.137961 140126425450368 extract_features.py:297] input_mask: 1 1 1 1 1 1 1 1 1 1 1 1 1 1 1 1 1 1 1 1 1 1 1 1 1 1 1 1 1 1 1 1 1 1 1 1 1 1 1 1 1 1 1 1 1 1 1 1 1 1 1 1 1 1 1 1 1 1 1 1 0 0 0 0 0 0 0 0 0 0 0 0 0 0 0 0 0 0 0 0 0 0 0 0 0 0 0 0 0 0 0 0 0 0 0 0 0 0 0 0 0 0 0 0 0 0 0 0 0 0 0 0 0 0 0 0 0 0 0 0 0 0 0 0 0 0 0 0\n",
            "INFO:tensorflow:input_type_ids: 0 0 0 0 0 0 0 0 0 0 0 0 0 0 0 0 0 0 0 0 0 0 0 0 0 0 0 0 0 0 0 0 0 0 0 0 0 0 0 0 0 0 0 0 0 0 0 0 0 0 0 0 0 0 0 0 0 0 0 0 0 0 0 0 0 0 0 0 0 0 0 0 0 0 0 0 0 0 0 0 0 0 0 0 0 0 0 0 0 0 0 0 0 0 0 0 0 0 0 0 0 0 0 0 0 0 0 0 0 0 0 0 0 0 0 0 0 0 0 0 0 0 0 0 0 0 0 0\n",
            "I0204 04:15:00.138072 140126425450368 extract_features.py:299] input_type_ids: 0 0 0 0 0 0 0 0 0 0 0 0 0 0 0 0 0 0 0 0 0 0 0 0 0 0 0 0 0 0 0 0 0 0 0 0 0 0 0 0 0 0 0 0 0 0 0 0 0 0 0 0 0 0 0 0 0 0 0 0 0 0 0 0 0 0 0 0 0 0 0 0 0 0 0 0 0 0 0 0 0 0 0 0 0 0 0 0 0 0 0 0 0 0 0 0 0 0 0 0 0 0 0 0 0 0 0 0 0 0 0 0 0 0 0 0 0 0 0 0 0 0 0 0 0 0 0 0\n",
            "INFO:tensorflow:*** Example ***\n",
            "I0204 04:15:00.138357 140126425450368 extract_features.py:292] *** Example ***\n",
            "INFO:tensorflow:unique_id: 4\n",
            "I0204 04:15:00.138448 140126425450368 extract_features.py:293] unique_id: 4\n",
            "INFO:tensorflow:tokens: [CLS] ▁ マツダ の クル マ づくり の 過去 ・ 現在 ・ 未来 を見ることができる ミュージアム です 。 館 内は 6 つの エリア で構成されており 、 な つか し の名 車 や 、 最新の コンセプト カー など に出 会 え ます 。 また 、 見学 コース には 工場 の 組み立て ライン も 含まれ ており 、 クル マ が出来 上がって いく 様子 を 見学 することができ ます 。 ▁ マツダ ミュージアム [SEP]\n",
            "I0204 04:15:00.138539 140126425450368 extract_features.py:295] tokens: [CLS] ▁ マツダ の クル マ づくり の 過去 ・ 現在 ・ 未来 を見ることができる ミュージアム です 。 館 内は 6 つの エリア で構成されており 、 な つか し の名 車 や 、 最新の コンセプト カー など に出 会 え ます 。 また 、 見学 コース には 工場 の 組み立て ライン も 含まれ ており 、 クル マ が出来 上がって いく 様子 を 見学 することができ ます 。 ▁ マツダ ミュージアム [SEP]\n",
            "INFO:tensorflow:input_ids: 4 9 16502 10 2399 157 12458 10 2756 13 1226 13 3638 22807 20754 2767 8 524 10167 43 334 2589 29889 7 57 5310 32 2515 304 26 7 15247 4709 410 45 4727 212 635 3418 8 240 7 14960 1565 42 988 10 13510 1156 30 8379 218 7 2399 157 12564 11144 2478 6824 18 14960 17668 3418 8 9 16502 20754 5 0 0 0 0 0 0 0 0 0 0 0 0 0 0 0 0 0 0 0 0 0 0 0 0 0 0 0 0 0 0 0 0 0 0 0 0 0 0 0 0 0 0 0 0 0 0 0 0 0 0 0 0 0 0 0 0 0 0 0 0\n",
            "I0204 04:15:00.138664 140126425450368 extract_features.py:296] input_ids: 4 9 16502 10 2399 157 12458 10 2756 13 1226 13 3638 22807 20754 2767 8 524 10167 43 334 2589 29889 7 57 5310 32 2515 304 26 7 15247 4709 410 45 4727 212 635 3418 8 240 7 14960 1565 42 988 10 13510 1156 30 8379 218 7 2399 157 12564 11144 2478 6824 18 14960 17668 3418 8 9 16502 20754 5 0 0 0 0 0 0 0 0 0 0 0 0 0 0 0 0 0 0 0 0 0 0 0 0 0 0 0 0 0 0 0 0 0 0 0 0 0 0 0 0 0 0 0 0 0 0 0 0 0 0 0 0 0 0 0 0 0 0 0 0\n",
            "INFO:tensorflow:input_mask: 1 1 1 1 1 1 1 1 1 1 1 1 1 1 1 1 1 1 1 1 1 1 1 1 1 1 1 1 1 1 1 1 1 1 1 1 1 1 1 1 1 1 1 1 1 1 1 1 1 1 1 1 1 1 1 1 1 1 1 1 1 1 1 1 1 1 1 1 0 0 0 0 0 0 0 0 0 0 0 0 0 0 0 0 0 0 0 0 0 0 0 0 0 0 0 0 0 0 0 0 0 0 0 0 0 0 0 0 0 0 0 0 0 0 0 0 0 0 0 0 0 0 0 0 0 0 0 0\n",
            "I0204 04:15:00.138783 140126425450368 extract_features.py:297] input_mask: 1 1 1 1 1 1 1 1 1 1 1 1 1 1 1 1 1 1 1 1 1 1 1 1 1 1 1 1 1 1 1 1 1 1 1 1 1 1 1 1 1 1 1 1 1 1 1 1 1 1 1 1 1 1 1 1 1 1 1 1 1 1 1 1 1 1 1 1 0 0 0 0 0 0 0 0 0 0 0 0 0 0 0 0 0 0 0 0 0 0 0 0 0 0 0 0 0 0 0 0 0 0 0 0 0 0 0 0 0 0 0 0 0 0 0 0 0 0 0 0 0 0 0 0 0 0 0 0\n",
            "INFO:tensorflow:input_type_ids: 0 0 0 0 0 0 0 0 0 0 0 0 0 0 0 0 0 0 0 0 0 0 0 0 0 0 0 0 0 0 0 0 0 0 0 0 0 0 0 0 0 0 0 0 0 0 0 0 0 0 0 0 0 0 0 0 0 0 0 0 0 0 0 0 0 0 0 0 0 0 0 0 0 0 0 0 0 0 0 0 0 0 0 0 0 0 0 0 0 0 0 0 0 0 0 0 0 0 0 0 0 0 0 0 0 0 0 0 0 0 0 0 0 0 0 0 0 0 0 0 0 0 0 0 0 0 0 0\n",
            "I0204 04:15:00.138903 140126425450368 extract_features.py:299] input_type_ids: 0 0 0 0 0 0 0 0 0 0 0 0 0 0 0 0 0 0 0 0 0 0 0 0 0 0 0 0 0 0 0 0 0 0 0 0 0 0 0 0 0 0 0 0 0 0 0 0 0 0 0 0 0 0 0 0 0 0 0 0 0 0 0 0 0 0 0 0 0 0 0 0 0 0 0 0 0 0 0 0 0 0 0 0 0 0 0 0 0 0 0 0 0 0 0 0 0 0 0 0 0 0 0 0 0 0 0 0 0 0 0 0 0 0 0 0 0 0 0 0 0 0 0 0 0 0 0 0\n",
            "WARNING:tensorflow:Estimator's model_fn (<function model_fn_builder.<locals>.model_fn at 0x7f7156102bf8>) includes params argument, but params are not passed to Estimator.\n",
            "W0204 04:15:00.248404 140126425450368 estimator.py:1994] Estimator's model_fn (<function model_fn_builder.<locals>.model_fn at 0x7f7156102bf8>) includes params argument, but params are not passed to Estimator.\n",
            "WARNING:tensorflow:Using temporary folder as model directory: /tmp/tmpu1u37cfl\n",
            "W0204 04:15:00.249861 140126425450368 estimator.py:1821] Using temporary folder as model directory: /tmp/tmpu1u37cfl\n",
            "INFO:tensorflow:Using config: {'_model_dir': '/tmp/tmpu1u37cfl', '_tf_random_seed': None, '_save_summary_steps': 100, '_save_checkpoints_steps': None, '_save_checkpoints_secs': 600, '_session_config': allow_soft_placement: true\n",
            "graph_options {\n",
            "  rewrite_options {\n",
            "    meta_optimizer_iterations: ONE\n",
            "  }\n",
            "}\n",
            ", '_keep_checkpoint_max': 5, '_keep_checkpoint_every_n_hours': 10000, '_log_step_count_steps': None, '_train_distribute': None, '_device_fn': None, '_protocol': None, '_eval_distribute': None, '_experimental_distribute': None, '_experimental_max_worker_delay_secs': None, '_session_creation_timeout_secs': 7200, '_service': None, '_cluster_spec': <tensorflow.python.training.server_lib.ClusterSpec object at 0x7f71548b0198>, '_task_type': 'worker', '_task_id': 0, '_global_id_in_cluster': 0, '_master': '', '_evaluation_master': '', '_is_chief': True, '_num_ps_replicas': 0, '_num_worker_replicas': 1, '_tpu_config': TPUConfig(iterations_per_loop=2, num_shards=8, num_cores_per_replica=None, per_host_input_for_training=3, tpu_job_name=None, initial_infeed_sleep_secs=None, input_partition_dims=None, eval_training_input_configuration=2, experimental_host_call_every_n_steps=1), '_cluster': None}\n",
            "I0204 04:15:00.250603 140126425450368 estimator.py:212] Using config: {'_model_dir': '/tmp/tmpu1u37cfl', '_tf_random_seed': None, '_save_summary_steps': 100, '_save_checkpoints_steps': None, '_save_checkpoints_secs': 600, '_session_config': allow_soft_placement: true\n",
            "graph_options {\n",
            "  rewrite_options {\n",
            "    meta_optimizer_iterations: ONE\n",
            "  }\n",
            "}\n",
            ", '_keep_checkpoint_max': 5, '_keep_checkpoint_every_n_hours': 10000, '_log_step_count_steps': None, '_train_distribute': None, '_device_fn': None, '_protocol': None, '_eval_distribute': None, '_experimental_distribute': None, '_experimental_max_worker_delay_secs': None, '_session_creation_timeout_secs': 7200, '_service': None, '_cluster_spec': <tensorflow.python.training.server_lib.ClusterSpec object at 0x7f71548b0198>, '_task_type': 'worker', '_task_id': 0, '_global_id_in_cluster': 0, '_master': '', '_evaluation_master': '', '_is_chief': True, '_num_ps_replicas': 0, '_num_worker_replicas': 1, '_tpu_config': TPUConfig(iterations_per_loop=2, num_shards=8, num_cores_per_replica=None, per_host_input_for_training=3, tpu_job_name=None, initial_infeed_sleep_secs=None, input_partition_dims=None, eval_training_input_configuration=2, experimental_host_call_every_n_steps=1), '_cluster': None}\n",
            "INFO:tensorflow:_TPUContext: eval_on_tpu True\n",
            "I0204 04:15:00.250849 140126425450368 tpu_context.py:220] _TPUContext: eval_on_tpu True\n",
            "WARNING:tensorflow:eval_on_tpu ignored because use_tpu is False.\n",
            "W0204 04:15:00.251338 140126425450368 tpu_context.py:222] eval_on_tpu ignored because use_tpu is False.\n",
            "WARNING:tensorflow:From ../src/extract_features.py:407: The name tf.gfile.Open is deprecated. Please use tf.io.gfile.GFile instead.\n",
            "\n",
            "W0204 04:15:00.251848 140126425450368 module_wrapper.py:139] From ../src/extract_features.py:407: The name tf.gfile.Open is deprecated. Please use tf.io.gfile.GFile instead.\n",
            "\n",
            "INFO:tensorflow:Could not find trained model in model_dir: /tmp/tmpu1u37cfl, running initialization to predict.\n",
            "I0204 04:15:00.252187 140126425450368 estimator.py:615] Could not find trained model in model_dir: /tmp/tmpu1u37cfl, running initialization to predict.\n",
            "WARNING:tensorflow:From /usr/local/lib/python3.6/dist-packages/tensorflow_core/python/ops/resource_variable_ops.py:1630: calling BaseResourceVariable.__init__ (from tensorflow.python.ops.resource_variable_ops) with constraint is deprecated and will be removed in a future version.\n",
            "Instructions for updating:\n",
            "If using Keras pass *_constraint arguments to layers.\n",
            "W0204 04:15:00.257705 140126425450368 deprecation.py:506] From /usr/local/lib/python3.6/dist-packages/tensorflow_core/python/ops/resource_variable_ops.py:1630: calling BaseResourceVariable.__init__ (from tensorflow.python.ops.resource_variable_ops) with constraint is deprecated and will be removed in a future version.\n",
            "Instructions for updating:\n",
            "If using Keras pass *_constraint arguments to layers.\n",
            "INFO:tensorflow:Calling model_fn.\n",
            "I0204 04:15:00.519158 140126425450368 estimator.py:1148] Calling model_fn.\n",
            "INFO:tensorflow:Running infer on CPU\n",
            "I0204 04:15:00.519407 140126425450368 tpu_estimator.py:3124] Running infer on CPU\n",
            "WARNING:tensorflow:From ../bert/modeling.py:171: The name tf.variable_scope is deprecated. Please use tf.compat.v1.variable_scope instead.\n",
            "\n",
            "W0204 04:15:00.522200 140126425450368 module_wrapper.py:139] From ../bert/modeling.py:171: The name tf.variable_scope is deprecated. Please use tf.compat.v1.variable_scope instead.\n",
            "\n",
            "WARNING:tensorflow:From ../bert/modeling.py:409: The name tf.get_variable is deprecated. Please use tf.compat.v1.get_variable instead.\n",
            "\n",
            "W0204 04:15:00.523645 140126425450368 module_wrapper.py:139] From ../bert/modeling.py:409: The name tf.get_variable is deprecated. Please use tf.compat.v1.get_variable instead.\n",
            "\n",
            "WARNING:tensorflow:From ../bert/modeling.py:490: The name tf.assert_less_equal is deprecated. Please use tf.compat.v1.assert_less_equal instead.\n",
            "\n",
            "W0204 04:15:00.548964 140126425450368 module_wrapper.py:139] From ../bert/modeling.py:490: The name tf.assert_less_equal is deprecated. Please use tf.compat.v1.assert_less_equal instead.\n",
            "\n",
            "WARNING:tensorflow:From ../bert/modeling.py:671: dense (from tensorflow.python.layers.core) is deprecated and will be removed in a future version.\n",
            "Instructions for updating:\n",
            "Use keras.layers.Dense instead.\n",
            "W0204 04:15:00.599578 140126425450368 deprecation.py:323] From ../bert/modeling.py:671: dense (from tensorflow.python.layers.core) is deprecated and will be removed in a future version.\n",
            "Instructions for updating:\n",
            "Use keras.layers.Dense instead.\n",
            "WARNING:tensorflow:From /usr/local/lib/python3.6/dist-packages/tensorflow_core/python/layers/core.py:187: Layer.apply (from tensorflow.python.keras.engine.base_layer) is deprecated and will be removed in a future version.\n",
            "Instructions for updating:\n",
            "Please use `layer.__call__` method instead.\n",
            "W0204 04:15:00.600691 140126425450368 deprecation.py:323] From /usr/local/lib/python3.6/dist-packages/tensorflow_core/python/layers/core.py:187: Layer.apply (from tensorflow.python.keras.engine.base_layer) is deprecated and will be removed in a future version.\n",
            "Instructions for updating:\n",
            "Please use `layer.__call__` method instead.\n",
            "WARNING:tensorflow:From ../src/extract_features.py:180: The name tf.trainable_variables is deprecated. Please use tf.compat.v1.trainable_variables instead.\n",
            "\n",
            "W0204 04:15:02.092236 140126425450368 module_wrapper.py:139] From ../src/extract_features.py:180: The name tf.trainable_variables is deprecated. Please use tf.compat.v1.trainable_variables instead.\n",
            "\n",
            "WARNING:tensorflow:From ../src/extract_features.py:193: The name tf.train.init_from_checkpoint is deprecated. Please use tf.compat.v1.train.init_from_checkpoint instead.\n",
            "\n",
            "W0204 04:15:02.095589 140126425450368 module_wrapper.py:139] From ../src/extract_features.py:193: The name tf.train.init_from_checkpoint is deprecated. Please use tf.compat.v1.train.init_from_checkpoint instead.\n",
            "\n",
            "INFO:tensorflow:**** Trainable Variables ****\n",
            "I0204 04:15:02.614278 140126425450368 extract_features.py:195] **** Trainable Variables ****\n",
            "INFO:tensorflow:  name = bert/embeddings/word_embeddings:0, shape = (32000, 768), *INIT_FROM_CKPT*\n",
            "I0204 04:15:02.614485 140126425450368 extract_features.py:201]   name = bert/embeddings/word_embeddings:0, shape = (32000, 768), *INIT_FROM_CKPT*\n",
            "INFO:tensorflow:  name = bert/embeddings/token_type_embeddings:0, shape = (2, 768), *INIT_FROM_CKPT*\n",
            "I0204 04:15:02.614635 140126425450368 extract_features.py:201]   name = bert/embeddings/token_type_embeddings:0, shape = (2, 768), *INIT_FROM_CKPT*\n",
            "INFO:tensorflow:  name = bert/embeddings/position_embeddings:0, shape = (512, 768), *INIT_FROM_CKPT*\n",
            "I0204 04:15:02.614742 140126425450368 extract_features.py:201]   name = bert/embeddings/position_embeddings:0, shape = (512, 768), *INIT_FROM_CKPT*\n",
            "INFO:tensorflow:  name = bert/embeddings/LayerNorm/beta:0, shape = (768,), *INIT_FROM_CKPT*\n",
            "I0204 04:15:02.614842 140126425450368 extract_features.py:201]   name = bert/embeddings/LayerNorm/beta:0, shape = (768,), *INIT_FROM_CKPT*\n",
            "INFO:tensorflow:  name = bert/embeddings/LayerNorm/gamma:0, shape = (768,), *INIT_FROM_CKPT*\n",
            "I0204 04:15:02.614946 140126425450368 extract_features.py:201]   name = bert/embeddings/LayerNorm/gamma:0, shape = (768,), *INIT_FROM_CKPT*\n",
            "INFO:tensorflow:  name = bert/encoder/layer_0/attention/self/query/kernel:0, shape = (768, 768), *INIT_FROM_CKPT*\n",
            "I0204 04:15:02.615030 140126425450368 extract_features.py:201]   name = bert/encoder/layer_0/attention/self/query/kernel:0, shape = (768, 768), *INIT_FROM_CKPT*\n",
            "INFO:tensorflow:  name = bert/encoder/layer_0/attention/self/query/bias:0, shape = (768,), *INIT_FROM_CKPT*\n",
            "I0204 04:15:02.615155 140126425450368 extract_features.py:201]   name = bert/encoder/layer_0/attention/self/query/bias:0, shape = (768,), *INIT_FROM_CKPT*\n",
            "INFO:tensorflow:  name = bert/encoder/layer_0/attention/self/key/kernel:0, shape = (768, 768), *INIT_FROM_CKPT*\n",
            "I0204 04:15:02.615239 140126425450368 extract_features.py:201]   name = bert/encoder/layer_0/attention/self/key/kernel:0, shape = (768, 768), *INIT_FROM_CKPT*\n",
            "INFO:tensorflow:  name = bert/encoder/layer_0/attention/self/key/bias:0, shape = (768,), *INIT_FROM_CKPT*\n",
            "I0204 04:15:02.615326 140126425450368 extract_features.py:201]   name = bert/encoder/layer_0/attention/self/key/bias:0, shape = (768,), *INIT_FROM_CKPT*\n",
            "INFO:tensorflow:  name = bert/encoder/layer_0/attention/self/value/kernel:0, shape = (768, 768), *INIT_FROM_CKPT*\n",
            "I0204 04:15:02.615409 140126425450368 extract_features.py:201]   name = bert/encoder/layer_0/attention/self/value/kernel:0, shape = (768, 768), *INIT_FROM_CKPT*\n",
            "INFO:tensorflow:  name = bert/encoder/layer_0/attention/self/value/bias:0, shape = (768,), *INIT_FROM_CKPT*\n",
            "I0204 04:15:02.615495 140126425450368 extract_features.py:201]   name = bert/encoder/layer_0/attention/self/value/bias:0, shape = (768,), *INIT_FROM_CKPT*\n",
            "INFO:tensorflow:  name = bert/encoder/layer_0/attention/output/dense/kernel:0, shape = (768, 768), *INIT_FROM_CKPT*\n",
            "I0204 04:15:02.615575 140126425450368 extract_features.py:201]   name = bert/encoder/layer_0/attention/output/dense/kernel:0, shape = (768, 768), *INIT_FROM_CKPT*\n",
            "INFO:tensorflow:  name = bert/encoder/layer_0/attention/output/dense/bias:0, shape = (768,), *INIT_FROM_CKPT*\n",
            "I0204 04:15:02.615660 140126425450368 extract_features.py:201]   name = bert/encoder/layer_0/attention/output/dense/bias:0, shape = (768,), *INIT_FROM_CKPT*\n",
            "INFO:tensorflow:  name = bert/encoder/layer_0/attention/output/LayerNorm/beta:0, shape = (768,), *INIT_FROM_CKPT*\n",
            "I0204 04:15:02.615739 140126425450368 extract_features.py:201]   name = bert/encoder/layer_0/attention/output/LayerNorm/beta:0, shape = (768,), *INIT_FROM_CKPT*\n",
            "INFO:tensorflow:  name = bert/encoder/layer_0/attention/output/LayerNorm/gamma:0, shape = (768,), *INIT_FROM_CKPT*\n",
            "I0204 04:15:02.615832 140126425450368 extract_features.py:201]   name = bert/encoder/layer_0/attention/output/LayerNorm/gamma:0, shape = (768,), *INIT_FROM_CKPT*\n",
            "INFO:tensorflow:  name = bert/encoder/layer_0/intermediate/dense/kernel:0, shape = (768, 3072), *INIT_FROM_CKPT*\n",
            "I0204 04:15:02.615926 140126425450368 extract_features.py:201]   name = bert/encoder/layer_0/intermediate/dense/kernel:0, shape = (768, 3072), *INIT_FROM_CKPT*\n",
            "INFO:tensorflow:  name = bert/encoder/layer_0/intermediate/dense/bias:0, shape = (3072,), *INIT_FROM_CKPT*\n",
            "I0204 04:15:02.616013 140126425450368 extract_features.py:201]   name = bert/encoder/layer_0/intermediate/dense/bias:0, shape = (3072,), *INIT_FROM_CKPT*\n",
            "INFO:tensorflow:  name = bert/encoder/layer_0/output/dense/kernel:0, shape = (3072, 768), *INIT_FROM_CKPT*\n",
            "I0204 04:15:02.616094 140126425450368 extract_features.py:201]   name = bert/encoder/layer_0/output/dense/kernel:0, shape = (3072, 768), *INIT_FROM_CKPT*\n",
            "INFO:tensorflow:  name = bert/encoder/layer_0/output/dense/bias:0, shape = (768,), *INIT_FROM_CKPT*\n",
            "I0204 04:15:02.616181 140126425450368 extract_features.py:201]   name = bert/encoder/layer_0/output/dense/bias:0, shape = (768,), *INIT_FROM_CKPT*\n",
            "INFO:tensorflow:  name = bert/encoder/layer_0/output/LayerNorm/beta:0, shape = (768,), *INIT_FROM_CKPT*\n",
            "I0204 04:15:02.616262 140126425450368 extract_features.py:201]   name = bert/encoder/layer_0/output/LayerNorm/beta:0, shape = (768,), *INIT_FROM_CKPT*\n",
            "INFO:tensorflow:  name = bert/encoder/layer_0/output/LayerNorm/gamma:0, shape = (768,), *INIT_FROM_CKPT*\n",
            "I0204 04:15:02.616343 140126425450368 extract_features.py:201]   name = bert/encoder/layer_0/output/LayerNorm/gamma:0, shape = (768,), *INIT_FROM_CKPT*\n",
            "INFO:tensorflow:  name = bert/encoder/layer_1/attention/self/query/kernel:0, shape = (768, 768), *INIT_FROM_CKPT*\n",
            "I0204 04:15:02.616423 140126425450368 extract_features.py:201]   name = bert/encoder/layer_1/attention/self/query/kernel:0, shape = (768, 768), *INIT_FROM_CKPT*\n",
            "INFO:tensorflow:  name = bert/encoder/layer_1/attention/self/query/bias:0, shape = (768,), *INIT_FROM_CKPT*\n",
            "I0204 04:15:02.616509 140126425450368 extract_features.py:201]   name = bert/encoder/layer_1/attention/self/query/bias:0, shape = (768,), *INIT_FROM_CKPT*\n",
            "INFO:tensorflow:  name = bert/encoder/layer_1/attention/self/key/kernel:0, shape = (768, 768), *INIT_FROM_CKPT*\n",
            "I0204 04:15:02.616618 140126425450368 extract_features.py:201]   name = bert/encoder/layer_1/attention/self/key/kernel:0, shape = (768, 768), *INIT_FROM_CKPT*\n",
            "INFO:tensorflow:  name = bert/encoder/layer_1/attention/self/key/bias:0, shape = (768,), *INIT_FROM_CKPT*\n",
            "I0204 04:15:02.616710 140126425450368 extract_features.py:201]   name = bert/encoder/layer_1/attention/self/key/bias:0, shape = (768,), *INIT_FROM_CKPT*\n",
            "INFO:tensorflow:  name = bert/encoder/layer_1/attention/self/value/kernel:0, shape = (768, 768), *INIT_FROM_CKPT*\n",
            "I0204 04:15:02.616794 140126425450368 extract_features.py:201]   name = bert/encoder/layer_1/attention/self/value/kernel:0, shape = (768, 768), *INIT_FROM_CKPT*\n",
            "INFO:tensorflow:  name = bert/encoder/layer_1/attention/self/value/bias:0, shape = (768,), *INIT_FROM_CKPT*\n",
            "I0204 04:15:02.616917 140126425450368 extract_features.py:201]   name = bert/encoder/layer_1/attention/self/value/bias:0, shape = (768,), *INIT_FROM_CKPT*\n",
            "INFO:tensorflow:  name = bert/encoder/layer_1/attention/output/dense/kernel:0, shape = (768, 768), *INIT_FROM_CKPT*\n",
            "I0204 04:15:02.617004 140126425450368 extract_features.py:201]   name = bert/encoder/layer_1/attention/output/dense/kernel:0, shape = (768, 768), *INIT_FROM_CKPT*\n",
            "INFO:tensorflow:  name = bert/encoder/layer_1/attention/output/dense/bias:0, shape = (768,), *INIT_FROM_CKPT*\n",
            "I0204 04:15:02.617092 140126425450368 extract_features.py:201]   name = bert/encoder/layer_1/attention/output/dense/bias:0, shape = (768,), *INIT_FROM_CKPT*\n",
            "INFO:tensorflow:  name = bert/encoder/layer_1/attention/output/LayerNorm/beta:0, shape = (768,), *INIT_FROM_CKPT*\n",
            "I0204 04:15:02.617185 140126425450368 extract_features.py:201]   name = bert/encoder/layer_1/attention/output/LayerNorm/beta:0, shape = (768,), *INIT_FROM_CKPT*\n",
            "INFO:tensorflow:  name = bert/encoder/layer_1/attention/output/LayerNorm/gamma:0, shape = (768,), *INIT_FROM_CKPT*\n",
            "I0204 04:15:02.617264 140126425450368 extract_features.py:201]   name = bert/encoder/layer_1/attention/output/LayerNorm/gamma:0, shape = (768,), *INIT_FROM_CKPT*\n",
            "INFO:tensorflow:  name = bert/encoder/layer_1/intermediate/dense/kernel:0, shape = (768, 3072), *INIT_FROM_CKPT*\n",
            "I0204 04:15:02.617345 140126425450368 extract_features.py:201]   name = bert/encoder/layer_1/intermediate/dense/kernel:0, shape = (768, 3072), *INIT_FROM_CKPT*\n",
            "INFO:tensorflow:  name = bert/encoder/layer_1/intermediate/dense/bias:0, shape = (3072,), *INIT_FROM_CKPT*\n",
            "I0204 04:15:02.617432 140126425450368 extract_features.py:201]   name = bert/encoder/layer_1/intermediate/dense/bias:0, shape = (3072,), *INIT_FROM_CKPT*\n",
            "INFO:tensorflow:  name = bert/encoder/layer_1/output/dense/kernel:0, shape = (3072, 768), *INIT_FROM_CKPT*\n",
            "I0204 04:15:02.617512 140126425450368 extract_features.py:201]   name = bert/encoder/layer_1/output/dense/kernel:0, shape = (3072, 768), *INIT_FROM_CKPT*\n",
            "INFO:tensorflow:  name = bert/encoder/layer_1/output/dense/bias:0, shape = (768,), *INIT_FROM_CKPT*\n",
            "I0204 04:15:02.617630 140126425450368 extract_features.py:201]   name = bert/encoder/layer_1/output/dense/bias:0, shape = (768,), *INIT_FROM_CKPT*\n",
            "INFO:tensorflow:  name = bert/encoder/layer_1/output/LayerNorm/beta:0, shape = (768,), *INIT_FROM_CKPT*\n",
            "I0204 04:15:02.617709 140126425450368 extract_features.py:201]   name = bert/encoder/layer_1/output/LayerNorm/beta:0, shape = (768,), *INIT_FROM_CKPT*\n",
            "INFO:tensorflow:  name = bert/encoder/layer_1/output/LayerNorm/gamma:0, shape = (768,), *INIT_FROM_CKPT*\n",
            "I0204 04:15:02.617789 140126425450368 extract_features.py:201]   name = bert/encoder/layer_1/output/LayerNorm/gamma:0, shape = (768,), *INIT_FROM_CKPT*\n",
            "INFO:tensorflow:  name = bert/encoder/layer_2/attention/self/query/kernel:0, shape = (768, 768), *INIT_FROM_CKPT*\n",
            "I0204 04:15:02.617874 140126425450368 extract_features.py:201]   name = bert/encoder/layer_2/attention/self/query/kernel:0, shape = (768, 768), *INIT_FROM_CKPT*\n",
            "INFO:tensorflow:  name = bert/encoder/layer_2/attention/self/query/bias:0, shape = (768,), *INIT_FROM_CKPT*\n",
            "I0204 04:15:02.617971 140126425450368 extract_features.py:201]   name = bert/encoder/layer_2/attention/self/query/bias:0, shape = (768,), *INIT_FROM_CKPT*\n",
            "INFO:tensorflow:  name = bert/encoder/layer_2/attention/self/key/kernel:0, shape = (768, 768), *INIT_FROM_CKPT*\n",
            "I0204 04:15:02.618051 140126425450368 extract_features.py:201]   name = bert/encoder/layer_2/attention/self/key/kernel:0, shape = (768, 768), *INIT_FROM_CKPT*\n",
            "INFO:tensorflow:  name = bert/encoder/layer_2/attention/self/key/bias:0, shape = (768,), *INIT_FROM_CKPT*\n",
            "I0204 04:15:02.618134 140126425450368 extract_features.py:201]   name = bert/encoder/layer_2/attention/self/key/bias:0, shape = (768,), *INIT_FROM_CKPT*\n",
            "INFO:tensorflow:  name = bert/encoder/layer_2/attention/self/value/kernel:0, shape = (768, 768), *INIT_FROM_CKPT*\n",
            "I0204 04:15:02.618212 140126425450368 extract_features.py:201]   name = bert/encoder/layer_2/attention/self/value/kernel:0, shape = (768, 768), *INIT_FROM_CKPT*\n",
            "INFO:tensorflow:  name = bert/encoder/layer_2/attention/self/value/bias:0, shape = (768,), *INIT_FROM_CKPT*\n",
            "I0204 04:15:02.618315 140126425450368 extract_features.py:201]   name = bert/encoder/layer_2/attention/self/value/bias:0, shape = (768,), *INIT_FROM_CKPT*\n",
            "INFO:tensorflow:  name = bert/encoder/layer_2/attention/output/dense/kernel:0, shape = (768, 768), *INIT_FROM_CKPT*\n",
            "I0204 04:15:02.618421 140126425450368 extract_features.py:201]   name = bert/encoder/layer_2/attention/output/dense/kernel:0, shape = (768, 768), *INIT_FROM_CKPT*\n",
            "INFO:tensorflow:  name = bert/encoder/layer_2/attention/output/dense/bias:0, shape = (768,), *INIT_FROM_CKPT*\n",
            "I0204 04:15:02.618506 140126425450368 extract_features.py:201]   name = bert/encoder/layer_2/attention/output/dense/bias:0, shape = (768,), *INIT_FROM_CKPT*\n",
            "INFO:tensorflow:  name = bert/encoder/layer_2/attention/output/LayerNorm/beta:0, shape = (768,), *INIT_FROM_CKPT*\n",
            "I0204 04:15:02.618585 140126425450368 extract_features.py:201]   name = bert/encoder/layer_2/attention/output/LayerNorm/beta:0, shape = (768,), *INIT_FROM_CKPT*\n",
            "INFO:tensorflow:  name = bert/encoder/layer_2/attention/output/LayerNorm/gamma:0, shape = (768,), *INIT_FROM_CKPT*\n",
            "I0204 04:15:02.618662 140126425450368 extract_features.py:201]   name = bert/encoder/layer_2/attention/output/LayerNorm/gamma:0, shape = (768,), *INIT_FROM_CKPT*\n",
            "INFO:tensorflow:  name = bert/encoder/layer_2/intermediate/dense/kernel:0, shape = (768, 3072), *INIT_FROM_CKPT*\n",
            "I0204 04:15:02.618740 140126425450368 extract_features.py:201]   name = bert/encoder/layer_2/intermediate/dense/kernel:0, shape = (768, 3072), *INIT_FROM_CKPT*\n",
            "INFO:tensorflow:  name = bert/encoder/layer_2/intermediate/dense/bias:0, shape = (3072,), *INIT_FROM_CKPT*\n",
            "I0204 04:15:02.618829 140126425450368 extract_features.py:201]   name = bert/encoder/layer_2/intermediate/dense/bias:0, shape = (3072,), *INIT_FROM_CKPT*\n",
            "INFO:tensorflow:  name = bert/encoder/layer_2/output/dense/kernel:0, shape = (3072, 768), *INIT_FROM_CKPT*\n",
            "I0204 04:15:02.618920 140126425450368 extract_features.py:201]   name = bert/encoder/layer_2/output/dense/kernel:0, shape = (3072, 768), *INIT_FROM_CKPT*\n",
            "INFO:tensorflow:  name = bert/encoder/layer_2/output/dense/bias:0, shape = (768,), *INIT_FROM_CKPT*\n",
            "I0204 04:15:02.619014 140126425450368 extract_features.py:201]   name = bert/encoder/layer_2/output/dense/bias:0, shape = (768,), *INIT_FROM_CKPT*\n",
            "INFO:tensorflow:  name = bert/encoder/layer_2/output/LayerNorm/beta:0, shape = (768,), *INIT_FROM_CKPT*\n",
            "I0204 04:15:02.619093 140126425450368 extract_features.py:201]   name = bert/encoder/layer_2/output/LayerNorm/beta:0, shape = (768,), *INIT_FROM_CKPT*\n",
            "INFO:tensorflow:  name = bert/encoder/layer_2/output/LayerNorm/gamma:0, shape = (768,), *INIT_FROM_CKPT*\n",
            "I0204 04:15:02.619172 140126425450368 extract_features.py:201]   name = bert/encoder/layer_2/output/LayerNorm/gamma:0, shape = (768,), *INIT_FROM_CKPT*\n",
            "INFO:tensorflow:  name = bert/encoder/layer_3/attention/self/query/kernel:0, shape = (768, 768), *INIT_FROM_CKPT*\n",
            "I0204 04:15:02.619250 140126425450368 extract_features.py:201]   name = bert/encoder/layer_3/attention/self/query/kernel:0, shape = (768, 768), *INIT_FROM_CKPT*\n",
            "INFO:tensorflow:  name = bert/encoder/layer_3/attention/self/query/bias:0, shape = (768,), *INIT_FROM_CKPT*\n",
            "I0204 04:15:02.619336 140126425450368 extract_features.py:201]   name = bert/encoder/layer_3/attention/self/query/bias:0, shape = (768,), *INIT_FROM_CKPT*\n",
            "INFO:tensorflow:  name = bert/encoder/layer_3/attention/self/key/kernel:0, shape = (768, 768), *INIT_FROM_CKPT*\n",
            "I0204 04:15:02.619420 140126425450368 extract_features.py:201]   name = bert/encoder/layer_3/attention/self/key/kernel:0, shape = (768, 768), *INIT_FROM_CKPT*\n",
            "INFO:tensorflow:  name = bert/encoder/layer_3/attention/self/key/bias:0, shape = (768,), *INIT_FROM_CKPT*\n",
            "I0204 04:15:02.619505 140126425450368 extract_features.py:201]   name = bert/encoder/layer_3/attention/self/key/bias:0, shape = (768,), *INIT_FROM_CKPT*\n",
            "INFO:tensorflow:  name = bert/encoder/layer_3/attention/self/value/kernel:0, shape = (768, 768), *INIT_FROM_CKPT*\n",
            "I0204 04:15:02.619584 140126425450368 extract_features.py:201]   name = bert/encoder/layer_3/attention/self/value/kernel:0, shape = (768, 768), *INIT_FROM_CKPT*\n",
            "INFO:tensorflow:  name = bert/encoder/layer_3/attention/self/value/bias:0, shape = (768,), *INIT_FROM_CKPT*\n",
            "I0204 04:15:02.619687 140126425450368 extract_features.py:201]   name = bert/encoder/layer_3/attention/self/value/bias:0, shape = (768,), *INIT_FROM_CKPT*\n",
            "INFO:tensorflow:  name = bert/encoder/layer_3/attention/output/dense/kernel:0, shape = (768, 768), *INIT_FROM_CKPT*\n",
            "I0204 04:15:02.619771 140126425450368 extract_features.py:201]   name = bert/encoder/layer_3/attention/output/dense/kernel:0, shape = (768, 768), *INIT_FROM_CKPT*\n",
            "INFO:tensorflow:  name = bert/encoder/layer_3/attention/output/dense/bias:0, shape = (768,), *INIT_FROM_CKPT*\n",
            "I0204 04:15:02.619867 140126425450368 extract_features.py:201]   name = bert/encoder/layer_3/attention/output/dense/bias:0, shape = (768,), *INIT_FROM_CKPT*\n",
            "INFO:tensorflow:  name = bert/encoder/layer_3/attention/output/LayerNorm/beta:0, shape = (768,), *INIT_FROM_CKPT*\n",
            "I0204 04:15:02.619966 140126425450368 extract_features.py:201]   name = bert/encoder/layer_3/attention/output/LayerNorm/beta:0, shape = (768,), *INIT_FROM_CKPT*\n",
            "INFO:tensorflow:  name = bert/encoder/layer_3/attention/output/LayerNorm/gamma:0, shape = (768,), *INIT_FROM_CKPT*\n",
            "I0204 04:15:02.620050 140126425450368 extract_features.py:201]   name = bert/encoder/layer_3/attention/output/LayerNorm/gamma:0, shape = (768,), *INIT_FROM_CKPT*\n",
            "INFO:tensorflow:  name = bert/encoder/layer_3/intermediate/dense/kernel:0, shape = (768, 3072), *INIT_FROM_CKPT*\n",
            "I0204 04:15:02.620135 140126425450368 extract_features.py:201]   name = bert/encoder/layer_3/intermediate/dense/kernel:0, shape = (768, 3072), *INIT_FROM_CKPT*\n",
            "INFO:tensorflow:  name = bert/encoder/layer_3/intermediate/dense/bias:0, shape = (3072,), *INIT_FROM_CKPT*\n",
            "I0204 04:15:02.620224 140126425450368 extract_features.py:201]   name = bert/encoder/layer_3/intermediate/dense/bias:0, shape = (3072,), *INIT_FROM_CKPT*\n",
            "INFO:tensorflow:  name = bert/encoder/layer_3/output/dense/kernel:0, shape = (3072, 768), *INIT_FROM_CKPT*\n",
            "I0204 04:15:02.666660 140126425450368 extract_features.py:201]   name = bert/encoder/layer_3/output/dense/kernel:0, shape = (3072, 768), *INIT_FROM_CKPT*\n",
            "INFO:tensorflow:  name = bert/encoder/layer_3/output/dense/bias:0, shape = (768,), *INIT_FROM_CKPT*\n",
            "I0204 04:15:02.666808 140126425450368 extract_features.py:201]   name = bert/encoder/layer_3/output/dense/bias:0, shape = (768,), *INIT_FROM_CKPT*\n",
            "INFO:tensorflow:  name = bert/encoder/layer_3/output/LayerNorm/beta:0, shape = (768,), *INIT_FROM_CKPT*\n",
            "I0204 04:15:02.666939 140126425450368 extract_features.py:201]   name = bert/encoder/layer_3/output/LayerNorm/beta:0, shape = (768,), *INIT_FROM_CKPT*\n",
            "INFO:tensorflow:  name = bert/encoder/layer_3/output/LayerNorm/gamma:0, shape = (768,), *INIT_FROM_CKPT*\n",
            "I0204 04:15:02.667052 140126425450368 extract_features.py:201]   name = bert/encoder/layer_3/output/LayerNorm/gamma:0, shape = (768,), *INIT_FROM_CKPT*\n",
            "INFO:tensorflow:  name = bert/encoder/layer_4/attention/self/query/kernel:0, shape = (768, 768), *INIT_FROM_CKPT*\n",
            "I0204 04:15:02.667154 140126425450368 extract_features.py:201]   name = bert/encoder/layer_4/attention/self/query/kernel:0, shape = (768, 768), *INIT_FROM_CKPT*\n",
            "INFO:tensorflow:  name = bert/encoder/layer_4/attention/self/query/bias:0, shape = (768,), *INIT_FROM_CKPT*\n",
            "I0204 04:15:02.667268 140126425450368 extract_features.py:201]   name = bert/encoder/layer_4/attention/self/query/bias:0, shape = (768,), *INIT_FROM_CKPT*\n",
            "INFO:tensorflow:  name = bert/encoder/layer_4/attention/self/key/kernel:0, shape = (768, 768), *INIT_FROM_CKPT*\n",
            "I0204 04:15:02.667376 140126425450368 extract_features.py:201]   name = bert/encoder/layer_4/attention/self/key/kernel:0, shape = (768, 768), *INIT_FROM_CKPT*\n",
            "INFO:tensorflow:  name = bert/encoder/layer_4/attention/self/key/bias:0, shape = (768,), *INIT_FROM_CKPT*\n",
            "I0204 04:15:02.667489 140126425450368 extract_features.py:201]   name = bert/encoder/layer_4/attention/self/key/bias:0, shape = (768,), *INIT_FROM_CKPT*\n",
            "INFO:tensorflow:  name = bert/encoder/layer_4/attention/self/value/kernel:0, shape = (768, 768), *INIT_FROM_CKPT*\n",
            "I0204 04:15:02.667615 140126425450368 extract_features.py:201]   name = bert/encoder/layer_4/attention/self/value/kernel:0, shape = (768, 768), *INIT_FROM_CKPT*\n",
            "INFO:tensorflow:  name = bert/encoder/layer_4/attention/self/value/bias:0, shape = (768,), *INIT_FROM_CKPT*\n",
            "I0204 04:15:02.667739 140126425450368 extract_features.py:201]   name = bert/encoder/layer_4/attention/self/value/bias:0, shape = (768,), *INIT_FROM_CKPT*\n",
            "INFO:tensorflow:  name = bert/encoder/layer_4/attention/output/dense/kernel:0, shape = (768, 768), *INIT_FROM_CKPT*\n",
            "I0204 04:15:02.667874 140126425450368 extract_features.py:201]   name = bert/encoder/layer_4/attention/output/dense/kernel:0, shape = (768, 768), *INIT_FROM_CKPT*\n",
            "INFO:tensorflow:  name = bert/encoder/layer_4/attention/output/dense/bias:0, shape = (768,), *INIT_FROM_CKPT*\n",
            "I0204 04:15:02.668041 140126425450368 extract_features.py:201]   name = bert/encoder/layer_4/attention/output/dense/bias:0, shape = (768,), *INIT_FROM_CKPT*\n",
            "INFO:tensorflow:  name = bert/encoder/layer_4/attention/output/LayerNorm/beta:0, shape = (768,), *INIT_FROM_CKPT*\n",
            "I0204 04:15:02.668163 140126425450368 extract_features.py:201]   name = bert/encoder/layer_4/attention/output/LayerNorm/beta:0, shape = (768,), *INIT_FROM_CKPT*\n",
            "INFO:tensorflow:  name = bert/encoder/layer_4/attention/output/LayerNorm/gamma:0, shape = (768,), *INIT_FROM_CKPT*\n",
            "I0204 04:15:02.668284 140126425450368 extract_features.py:201]   name = bert/encoder/layer_4/attention/output/LayerNorm/gamma:0, shape = (768,), *INIT_FROM_CKPT*\n",
            "INFO:tensorflow:  name = bert/encoder/layer_4/intermediate/dense/kernel:0, shape = (768, 3072), *INIT_FROM_CKPT*\n",
            "I0204 04:15:02.668412 140126425450368 extract_features.py:201]   name = bert/encoder/layer_4/intermediate/dense/kernel:0, shape = (768, 3072), *INIT_FROM_CKPT*\n",
            "INFO:tensorflow:  name = bert/encoder/layer_4/intermediate/dense/bias:0, shape = (3072,), *INIT_FROM_CKPT*\n",
            "I0204 04:15:02.668554 140126425450368 extract_features.py:201]   name = bert/encoder/layer_4/intermediate/dense/bias:0, shape = (3072,), *INIT_FROM_CKPT*\n",
            "INFO:tensorflow:  name = bert/encoder/layer_4/output/dense/kernel:0, shape = (3072, 768), *INIT_FROM_CKPT*\n",
            "I0204 04:15:02.668693 140126425450368 extract_features.py:201]   name = bert/encoder/layer_4/output/dense/kernel:0, shape = (3072, 768), *INIT_FROM_CKPT*\n",
            "INFO:tensorflow:  name = bert/encoder/layer_4/output/dense/bias:0, shape = (768,), *INIT_FROM_CKPT*\n",
            "I0204 04:15:02.668844 140126425450368 extract_features.py:201]   name = bert/encoder/layer_4/output/dense/bias:0, shape = (768,), *INIT_FROM_CKPT*\n",
            "INFO:tensorflow:  name = bert/encoder/layer_4/output/LayerNorm/beta:0, shape = (768,), *INIT_FROM_CKPT*\n",
            "I0204 04:15:02.668989 140126425450368 extract_features.py:201]   name = bert/encoder/layer_4/output/LayerNorm/beta:0, shape = (768,), *INIT_FROM_CKPT*\n",
            "INFO:tensorflow:  name = bert/encoder/layer_4/output/LayerNorm/gamma:0, shape = (768,), *INIT_FROM_CKPT*\n",
            "I0204 04:15:02.669112 140126425450368 extract_features.py:201]   name = bert/encoder/layer_4/output/LayerNorm/gamma:0, shape = (768,), *INIT_FROM_CKPT*\n",
            "INFO:tensorflow:  name = bert/encoder/layer_5/attention/self/query/kernel:0, shape = (768, 768), *INIT_FROM_CKPT*\n",
            "I0204 04:15:02.669233 140126425450368 extract_features.py:201]   name = bert/encoder/layer_5/attention/self/query/kernel:0, shape = (768, 768), *INIT_FROM_CKPT*\n",
            "INFO:tensorflow:  name = bert/encoder/layer_5/attention/self/query/bias:0, shape = (768,), *INIT_FROM_CKPT*\n",
            "I0204 04:15:02.669364 140126425450368 extract_features.py:201]   name = bert/encoder/layer_5/attention/self/query/bias:0, shape = (768,), *INIT_FROM_CKPT*\n",
            "INFO:tensorflow:  name = bert/encoder/layer_5/attention/self/key/kernel:0, shape = (768, 768), *INIT_FROM_CKPT*\n",
            "I0204 04:15:02.669504 140126425450368 extract_features.py:201]   name = bert/encoder/layer_5/attention/self/key/kernel:0, shape = (768, 768), *INIT_FROM_CKPT*\n",
            "INFO:tensorflow:  name = bert/encoder/layer_5/attention/self/key/bias:0, shape = (768,), *INIT_FROM_CKPT*\n",
            "I0204 04:15:02.669644 140126425450368 extract_features.py:201]   name = bert/encoder/layer_5/attention/self/key/bias:0, shape = (768,), *INIT_FROM_CKPT*\n",
            "INFO:tensorflow:  name = bert/encoder/layer_5/attention/self/value/kernel:0, shape = (768, 768), *INIT_FROM_CKPT*\n",
            "I0204 04:15:02.669772 140126425450368 extract_features.py:201]   name = bert/encoder/layer_5/attention/self/value/kernel:0, shape = (768, 768), *INIT_FROM_CKPT*\n",
            "INFO:tensorflow:  name = bert/encoder/layer_5/attention/self/value/bias:0, shape = (768,), *INIT_FROM_CKPT*\n",
            "I0204 04:15:02.669941 140126425450368 extract_features.py:201]   name = bert/encoder/layer_5/attention/self/value/bias:0, shape = (768,), *INIT_FROM_CKPT*\n",
            "INFO:tensorflow:  name = bert/encoder/layer_5/attention/output/dense/kernel:0, shape = (768, 768), *INIT_FROM_CKPT*\n",
            "I0204 04:15:02.670071 140126425450368 extract_features.py:201]   name = bert/encoder/layer_5/attention/output/dense/kernel:0, shape = (768, 768), *INIT_FROM_CKPT*\n",
            "INFO:tensorflow:  name = bert/encoder/layer_5/attention/output/dense/bias:0, shape = (768,), *INIT_FROM_CKPT*\n",
            "I0204 04:15:02.670200 140126425450368 extract_features.py:201]   name = bert/encoder/layer_5/attention/output/dense/bias:0, shape = (768,), *INIT_FROM_CKPT*\n",
            "INFO:tensorflow:  name = bert/encoder/layer_5/attention/output/LayerNorm/beta:0, shape = (768,), *INIT_FROM_CKPT*\n",
            "I0204 04:15:02.670323 140126425450368 extract_features.py:201]   name = bert/encoder/layer_5/attention/output/LayerNorm/beta:0, shape = (768,), *INIT_FROM_CKPT*\n",
            "INFO:tensorflow:  name = bert/encoder/layer_5/attention/output/LayerNorm/gamma:0, shape = (768,), *INIT_FROM_CKPT*\n",
            "I0204 04:15:02.670446 140126425450368 extract_features.py:201]   name = bert/encoder/layer_5/attention/output/LayerNorm/gamma:0, shape = (768,), *INIT_FROM_CKPT*\n",
            "INFO:tensorflow:  name = bert/encoder/layer_5/intermediate/dense/kernel:0, shape = (768, 3072), *INIT_FROM_CKPT*\n",
            "I0204 04:15:02.670563 140126425450368 extract_features.py:201]   name = bert/encoder/layer_5/intermediate/dense/kernel:0, shape = (768, 3072), *INIT_FROM_CKPT*\n",
            "INFO:tensorflow:  name = bert/encoder/layer_5/intermediate/dense/bias:0, shape = (3072,), *INIT_FROM_CKPT*\n",
            "I0204 04:15:02.670702 140126425450368 extract_features.py:201]   name = bert/encoder/layer_5/intermediate/dense/bias:0, shape = (3072,), *INIT_FROM_CKPT*\n",
            "INFO:tensorflow:  name = bert/encoder/layer_5/output/dense/kernel:0, shape = (3072, 768), *INIT_FROM_CKPT*\n",
            "I0204 04:15:02.670825 140126425450368 extract_features.py:201]   name = bert/encoder/layer_5/output/dense/kernel:0, shape = (3072, 768), *INIT_FROM_CKPT*\n",
            "INFO:tensorflow:  name = bert/encoder/layer_5/output/dense/bias:0, shape = (768,), *INIT_FROM_CKPT*\n",
            "I0204 04:15:02.670966 140126425450368 extract_features.py:201]   name = bert/encoder/layer_5/output/dense/bias:0, shape = (768,), *INIT_FROM_CKPT*\n",
            "INFO:tensorflow:  name = bert/encoder/layer_5/output/LayerNorm/beta:0, shape = (768,), *INIT_FROM_CKPT*\n",
            "I0204 04:15:02.671107 140126425450368 extract_features.py:201]   name = bert/encoder/layer_5/output/LayerNorm/beta:0, shape = (768,), *INIT_FROM_CKPT*\n",
            "INFO:tensorflow:  name = bert/encoder/layer_5/output/LayerNorm/gamma:0, shape = (768,), *INIT_FROM_CKPT*\n",
            "I0204 04:15:02.671225 140126425450368 extract_features.py:201]   name = bert/encoder/layer_5/output/LayerNorm/gamma:0, shape = (768,), *INIT_FROM_CKPT*\n",
            "INFO:tensorflow:  name = bert/encoder/layer_6/attention/self/query/kernel:0, shape = (768, 768), *INIT_FROM_CKPT*\n",
            "I0204 04:15:02.671352 140126425450368 extract_features.py:201]   name = bert/encoder/layer_6/attention/self/query/kernel:0, shape = (768, 768), *INIT_FROM_CKPT*\n",
            "INFO:tensorflow:  name = bert/encoder/layer_6/attention/self/query/bias:0, shape = (768,), *INIT_FROM_CKPT*\n",
            "I0204 04:15:02.671474 140126425450368 extract_features.py:201]   name = bert/encoder/layer_6/attention/self/query/bias:0, shape = (768,), *INIT_FROM_CKPT*\n",
            "INFO:tensorflow:  name = bert/encoder/layer_6/attention/self/key/kernel:0, shape = (768, 768), *INIT_FROM_CKPT*\n",
            "I0204 04:15:02.671586 140126425450368 extract_features.py:201]   name = bert/encoder/layer_6/attention/self/key/kernel:0, shape = (768, 768), *INIT_FROM_CKPT*\n",
            "INFO:tensorflow:  name = bert/encoder/layer_6/attention/self/key/bias:0, shape = (768,), *INIT_FROM_CKPT*\n",
            "I0204 04:15:02.671707 140126425450368 extract_features.py:201]   name = bert/encoder/layer_6/attention/self/key/bias:0, shape = (768,), *INIT_FROM_CKPT*\n",
            "INFO:tensorflow:  name = bert/encoder/layer_6/attention/self/value/kernel:0, shape = (768, 768), *INIT_FROM_CKPT*\n",
            "I0204 04:15:02.671831 140126425450368 extract_features.py:201]   name = bert/encoder/layer_6/attention/self/value/kernel:0, shape = (768, 768), *INIT_FROM_CKPT*\n",
            "INFO:tensorflow:  name = bert/encoder/layer_6/attention/self/value/bias:0, shape = (768,), *INIT_FROM_CKPT*\n",
            "I0204 04:15:02.671969 140126425450368 extract_features.py:201]   name = bert/encoder/layer_6/attention/self/value/bias:0, shape = (768,), *INIT_FROM_CKPT*\n",
            "INFO:tensorflow:  name = bert/encoder/layer_6/attention/output/dense/kernel:0, shape = (768, 768), *INIT_FROM_CKPT*\n",
            "I0204 04:15:02.672077 140126425450368 extract_features.py:201]   name = bert/encoder/layer_6/attention/output/dense/kernel:0, shape = (768, 768), *INIT_FROM_CKPT*\n",
            "INFO:tensorflow:  name = bert/encoder/layer_6/attention/output/dense/bias:0, shape = (768,), *INIT_FROM_CKPT*\n",
            "I0204 04:15:02.672189 140126425450368 extract_features.py:201]   name = bert/encoder/layer_6/attention/output/dense/bias:0, shape = (768,), *INIT_FROM_CKPT*\n",
            "INFO:tensorflow:  name = bert/encoder/layer_6/attention/output/LayerNorm/beta:0, shape = (768,), *INIT_FROM_CKPT*\n",
            "I0204 04:15:02.672324 140126425450368 extract_features.py:201]   name = bert/encoder/layer_6/attention/output/LayerNorm/beta:0, shape = (768,), *INIT_FROM_CKPT*\n",
            "INFO:tensorflow:  name = bert/encoder/layer_6/attention/output/LayerNorm/gamma:0, shape = (768,), *INIT_FROM_CKPT*\n",
            "I0204 04:15:02.672450 140126425450368 extract_features.py:201]   name = bert/encoder/layer_6/attention/output/LayerNorm/gamma:0, shape = (768,), *INIT_FROM_CKPT*\n",
            "INFO:tensorflow:  name = bert/encoder/layer_6/intermediate/dense/kernel:0, shape = (768, 3072), *INIT_FROM_CKPT*\n",
            "I0204 04:15:02.672563 140126425450368 extract_features.py:201]   name = bert/encoder/layer_6/intermediate/dense/kernel:0, shape = (768, 3072), *INIT_FROM_CKPT*\n",
            "INFO:tensorflow:  name = bert/encoder/layer_6/intermediate/dense/bias:0, shape = (3072,), *INIT_FROM_CKPT*\n",
            "I0204 04:15:02.672683 140126425450368 extract_features.py:201]   name = bert/encoder/layer_6/intermediate/dense/bias:0, shape = (3072,), *INIT_FROM_CKPT*\n",
            "INFO:tensorflow:  name = bert/encoder/layer_6/output/dense/kernel:0, shape = (3072, 768), *INIT_FROM_CKPT*\n",
            "I0204 04:15:02.672804 140126425450368 extract_features.py:201]   name = bert/encoder/layer_6/output/dense/kernel:0, shape = (3072, 768), *INIT_FROM_CKPT*\n",
            "INFO:tensorflow:  name = bert/encoder/layer_6/output/dense/bias:0, shape = (768,), *INIT_FROM_CKPT*\n",
            "I0204 04:15:02.672963 140126425450368 extract_features.py:201]   name = bert/encoder/layer_6/output/dense/bias:0, shape = (768,), *INIT_FROM_CKPT*\n",
            "INFO:tensorflow:  name = bert/encoder/layer_6/output/LayerNorm/beta:0, shape = (768,), *INIT_FROM_CKPT*\n",
            "I0204 04:15:02.673144 140126425450368 extract_features.py:201]   name = bert/encoder/layer_6/output/LayerNorm/beta:0, shape = (768,), *INIT_FROM_CKPT*\n",
            "INFO:tensorflow:  name = bert/encoder/layer_6/output/LayerNorm/gamma:0, shape = (768,), *INIT_FROM_CKPT*\n",
            "I0204 04:15:02.673280 140126425450368 extract_features.py:201]   name = bert/encoder/layer_6/output/LayerNorm/gamma:0, shape = (768,), *INIT_FROM_CKPT*\n",
            "INFO:tensorflow:  name = bert/encoder/layer_7/attention/self/query/kernel:0, shape = (768, 768), *INIT_FROM_CKPT*\n",
            "I0204 04:15:02.673396 140126425450368 extract_features.py:201]   name = bert/encoder/layer_7/attention/self/query/kernel:0, shape = (768, 768), *INIT_FROM_CKPT*\n",
            "INFO:tensorflow:  name = bert/encoder/layer_7/attention/self/query/bias:0, shape = (768,), *INIT_FROM_CKPT*\n",
            "I0204 04:15:02.673524 140126425450368 extract_features.py:201]   name = bert/encoder/layer_7/attention/self/query/bias:0, shape = (768,), *INIT_FROM_CKPT*\n",
            "INFO:tensorflow:  name = bert/encoder/layer_7/attention/self/key/kernel:0, shape = (768, 768), *INIT_FROM_CKPT*\n",
            "I0204 04:15:02.673650 140126425450368 extract_features.py:201]   name = bert/encoder/layer_7/attention/self/key/kernel:0, shape = (768, 768), *INIT_FROM_CKPT*\n",
            "INFO:tensorflow:  name = bert/encoder/layer_7/attention/self/key/bias:0, shape = (768,), *INIT_FROM_CKPT*\n",
            "I0204 04:15:02.673782 140126425450368 extract_features.py:201]   name = bert/encoder/layer_7/attention/self/key/bias:0, shape = (768,), *INIT_FROM_CKPT*\n",
            "INFO:tensorflow:  name = bert/encoder/layer_7/attention/self/value/kernel:0, shape = (768, 768), *INIT_FROM_CKPT*\n",
            "I0204 04:15:02.673932 140126425450368 extract_features.py:201]   name = bert/encoder/layer_7/attention/self/value/kernel:0, shape = (768, 768), *INIT_FROM_CKPT*\n",
            "INFO:tensorflow:  name = bert/encoder/layer_7/attention/self/value/bias:0, shape = (768,), *INIT_FROM_CKPT*\n",
            "I0204 04:15:02.674066 140126425450368 extract_features.py:201]   name = bert/encoder/layer_7/attention/self/value/bias:0, shape = (768,), *INIT_FROM_CKPT*\n",
            "INFO:tensorflow:  name = bert/encoder/layer_7/attention/output/dense/kernel:0, shape = (768, 768), *INIT_FROM_CKPT*\n",
            "I0204 04:15:02.674190 140126425450368 extract_features.py:201]   name = bert/encoder/layer_7/attention/output/dense/kernel:0, shape = (768, 768), *INIT_FROM_CKPT*\n",
            "INFO:tensorflow:  name = bert/encoder/layer_7/attention/output/dense/bias:0, shape = (768,), *INIT_FROM_CKPT*\n",
            "I0204 04:15:02.674319 140126425450368 extract_features.py:201]   name = bert/encoder/layer_7/attention/output/dense/bias:0, shape = (768,), *INIT_FROM_CKPT*\n",
            "INFO:tensorflow:  name = bert/encoder/layer_7/attention/output/LayerNorm/beta:0, shape = (768,), *INIT_FROM_CKPT*\n",
            "I0204 04:15:02.674439 140126425450368 extract_features.py:201]   name = bert/encoder/layer_7/attention/output/LayerNorm/beta:0, shape = (768,), *INIT_FROM_CKPT*\n",
            "INFO:tensorflow:  name = bert/encoder/layer_7/attention/output/LayerNorm/gamma:0, shape = (768,), *INIT_FROM_CKPT*\n",
            "I0204 04:15:02.674562 140126425450368 extract_features.py:201]   name = bert/encoder/layer_7/attention/output/LayerNorm/gamma:0, shape = (768,), *INIT_FROM_CKPT*\n",
            "INFO:tensorflow:  name = bert/encoder/layer_7/intermediate/dense/kernel:0, shape = (768, 3072), *INIT_FROM_CKPT*\n",
            "I0204 04:15:02.674687 140126425450368 extract_features.py:201]   name = bert/encoder/layer_7/intermediate/dense/kernel:0, shape = (768, 3072), *INIT_FROM_CKPT*\n",
            "INFO:tensorflow:  name = bert/encoder/layer_7/intermediate/dense/bias:0, shape = (3072,), *INIT_FROM_CKPT*\n",
            "I0204 04:15:02.674815 140126425450368 extract_features.py:201]   name = bert/encoder/layer_7/intermediate/dense/bias:0, shape = (3072,), *INIT_FROM_CKPT*\n",
            "INFO:tensorflow:  name = bert/encoder/layer_7/output/dense/kernel:0, shape = (3072, 768), *INIT_FROM_CKPT*\n",
            "I0204 04:15:02.674952 140126425450368 extract_features.py:201]   name = bert/encoder/layer_7/output/dense/kernel:0, shape = (3072, 768), *INIT_FROM_CKPT*\n",
            "INFO:tensorflow:  name = bert/encoder/layer_7/output/dense/bias:0, shape = (768,), *INIT_FROM_CKPT*\n",
            "I0204 04:15:02.675077 140126425450368 extract_features.py:201]   name = bert/encoder/layer_7/output/dense/bias:0, shape = (768,), *INIT_FROM_CKPT*\n",
            "INFO:tensorflow:  name = bert/encoder/layer_7/output/LayerNorm/beta:0, shape = (768,), *INIT_FROM_CKPT*\n",
            "I0204 04:15:02.675193 140126425450368 extract_features.py:201]   name = bert/encoder/layer_7/output/LayerNorm/beta:0, shape = (768,), *INIT_FROM_CKPT*\n",
            "INFO:tensorflow:  name = bert/encoder/layer_7/output/LayerNorm/gamma:0, shape = (768,), *INIT_FROM_CKPT*\n",
            "I0204 04:15:02.675307 140126425450368 extract_features.py:201]   name = bert/encoder/layer_7/output/LayerNorm/gamma:0, shape = (768,), *INIT_FROM_CKPT*\n",
            "INFO:tensorflow:  name = bert/encoder/layer_8/attention/self/query/kernel:0, shape = (768, 768), *INIT_FROM_CKPT*\n",
            "I0204 04:15:02.675418 140126425450368 extract_features.py:201]   name = bert/encoder/layer_8/attention/self/query/kernel:0, shape = (768, 768), *INIT_FROM_CKPT*\n",
            "INFO:tensorflow:  name = bert/encoder/layer_8/attention/self/query/bias:0, shape = (768,), *INIT_FROM_CKPT*\n",
            "I0204 04:15:02.675539 140126425450368 extract_features.py:201]   name = bert/encoder/layer_8/attention/self/query/bias:0, shape = (768,), *INIT_FROM_CKPT*\n",
            "INFO:tensorflow:  name = bert/encoder/layer_8/attention/self/key/kernel:0, shape = (768, 768), *INIT_FROM_CKPT*\n",
            "I0204 04:15:02.675650 140126425450368 extract_features.py:201]   name = bert/encoder/layer_8/attention/self/key/kernel:0, shape = (768, 768), *INIT_FROM_CKPT*\n",
            "INFO:tensorflow:  name = bert/encoder/layer_8/attention/self/key/bias:0, shape = (768,), *INIT_FROM_CKPT*\n",
            "I0204 04:15:02.675767 140126425450368 extract_features.py:201]   name = bert/encoder/layer_8/attention/self/key/bias:0, shape = (768,), *INIT_FROM_CKPT*\n",
            "INFO:tensorflow:  name = bert/encoder/layer_8/attention/self/value/kernel:0, shape = (768, 768), *INIT_FROM_CKPT*\n",
            "I0204 04:15:02.675903 140126425450368 extract_features.py:201]   name = bert/encoder/layer_8/attention/self/value/kernel:0, shape = (768, 768), *INIT_FROM_CKPT*\n",
            "INFO:tensorflow:  name = bert/encoder/layer_8/attention/self/value/bias:0, shape = (768,), *INIT_FROM_CKPT*\n",
            "I0204 04:15:02.676030 140126425450368 extract_features.py:201]   name = bert/encoder/layer_8/attention/self/value/bias:0, shape = (768,), *INIT_FROM_CKPT*\n",
            "INFO:tensorflow:  name = bert/encoder/layer_8/attention/output/dense/kernel:0, shape = (768, 768), *INIT_FROM_CKPT*\n",
            "I0204 04:15:02.676143 140126425450368 extract_features.py:201]   name = bert/encoder/layer_8/attention/output/dense/kernel:0, shape = (768, 768), *INIT_FROM_CKPT*\n",
            "INFO:tensorflow:  name = bert/encoder/layer_8/attention/output/dense/bias:0, shape = (768,), *INIT_FROM_CKPT*\n",
            "I0204 04:15:02.676265 140126425450368 extract_features.py:201]   name = bert/encoder/layer_8/attention/output/dense/bias:0, shape = (768,), *INIT_FROM_CKPT*\n",
            "INFO:tensorflow:  name = bert/encoder/layer_8/attention/output/LayerNorm/beta:0, shape = (768,), *INIT_FROM_CKPT*\n",
            "I0204 04:15:02.676379 140126425450368 extract_features.py:201]   name = bert/encoder/layer_8/attention/output/LayerNorm/beta:0, shape = (768,), *INIT_FROM_CKPT*\n",
            "INFO:tensorflow:  name = bert/encoder/layer_8/attention/output/LayerNorm/gamma:0, shape = (768,), *INIT_FROM_CKPT*\n",
            "I0204 04:15:02.676493 140126425450368 extract_features.py:201]   name = bert/encoder/layer_8/attention/output/LayerNorm/gamma:0, shape = (768,), *INIT_FROM_CKPT*\n",
            "INFO:tensorflow:  name = bert/encoder/layer_8/intermediate/dense/kernel:0, shape = (768, 3072), *INIT_FROM_CKPT*\n",
            "I0204 04:15:02.676605 140126425450368 extract_features.py:201]   name = bert/encoder/layer_8/intermediate/dense/kernel:0, shape = (768, 3072), *INIT_FROM_CKPT*\n",
            "INFO:tensorflow:  name = bert/encoder/layer_8/intermediate/dense/bias:0, shape = (3072,), *INIT_FROM_CKPT*\n",
            "I0204 04:15:02.676726 140126425450368 extract_features.py:201]   name = bert/encoder/layer_8/intermediate/dense/bias:0, shape = (3072,), *INIT_FROM_CKPT*\n",
            "INFO:tensorflow:  name = bert/encoder/layer_8/output/dense/kernel:0, shape = (3072, 768), *INIT_FROM_CKPT*\n",
            "I0204 04:15:02.676858 140126425450368 extract_features.py:201]   name = bert/encoder/layer_8/output/dense/kernel:0, shape = (3072, 768), *INIT_FROM_CKPT*\n",
            "INFO:tensorflow:  name = bert/encoder/layer_8/output/dense/bias:0, shape = (768,), *INIT_FROM_CKPT*\n",
            "I0204 04:15:02.676998 140126425450368 extract_features.py:201]   name = bert/encoder/layer_8/output/dense/bias:0, shape = (768,), *INIT_FROM_CKPT*\n",
            "INFO:tensorflow:  name = bert/encoder/layer_8/output/LayerNorm/beta:0, shape = (768,), *INIT_FROM_CKPT*\n",
            "I0204 04:15:02.677112 140126425450368 extract_features.py:201]   name = bert/encoder/layer_8/output/LayerNorm/beta:0, shape = (768,), *INIT_FROM_CKPT*\n",
            "INFO:tensorflow:  name = bert/encoder/layer_8/output/LayerNorm/gamma:0, shape = (768,), *INIT_FROM_CKPT*\n",
            "I0204 04:15:02.677244 140126425450368 extract_features.py:201]   name = bert/encoder/layer_8/output/LayerNorm/gamma:0, shape = (768,), *INIT_FROM_CKPT*\n",
            "INFO:tensorflow:  name = bert/encoder/layer_9/attention/self/query/kernel:0, shape = (768, 768), *INIT_FROM_CKPT*\n",
            "I0204 04:15:02.677361 140126425450368 extract_features.py:201]   name = bert/encoder/layer_9/attention/self/query/kernel:0, shape = (768, 768), *INIT_FROM_CKPT*\n",
            "INFO:tensorflow:  name = bert/encoder/layer_9/attention/self/query/bias:0, shape = (768,), *INIT_FROM_CKPT*\n",
            "I0204 04:15:02.677491 140126425450368 extract_features.py:201]   name = bert/encoder/layer_9/attention/self/query/bias:0, shape = (768,), *INIT_FROM_CKPT*\n",
            "INFO:tensorflow:  name = bert/encoder/layer_9/attention/self/key/kernel:0, shape = (768, 768), *INIT_FROM_CKPT*\n",
            "I0204 04:15:02.677605 140126425450368 extract_features.py:201]   name = bert/encoder/layer_9/attention/self/key/kernel:0, shape = (768, 768), *INIT_FROM_CKPT*\n",
            "INFO:tensorflow:  name = bert/encoder/layer_9/attention/self/key/bias:0, shape = (768,), *INIT_FROM_CKPT*\n",
            "I0204 04:15:02.677743 140126425450368 extract_features.py:201]   name = bert/encoder/layer_9/attention/self/key/bias:0, shape = (768,), *INIT_FROM_CKPT*\n",
            "INFO:tensorflow:  name = bert/encoder/layer_9/attention/self/value/kernel:0, shape = (768, 768), *INIT_FROM_CKPT*\n",
            "I0204 04:15:02.677875 140126425450368 extract_features.py:201]   name = bert/encoder/layer_9/attention/self/value/kernel:0, shape = (768, 768), *INIT_FROM_CKPT*\n",
            "INFO:tensorflow:  name = bert/encoder/layer_9/attention/self/value/bias:0, shape = (768,), *INIT_FROM_CKPT*\n",
            "I0204 04:15:02.678021 140126425450368 extract_features.py:201]   name = bert/encoder/layer_9/attention/self/value/bias:0, shape = (768,), *INIT_FROM_CKPT*\n",
            "INFO:tensorflow:  name = bert/encoder/layer_9/attention/output/dense/kernel:0, shape = (768, 768), *INIT_FROM_CKPT*\n",
            "I0204 04:15:02.678142 140126425450368 extract_features.py:201]   name = bert/encoder/layer_9/attention/output/dense/kernel:0, shape = (768, 768), *INIT_FROM_CKPT*\n",
            "INFO:tensorflow:  name = bert/encoder/layer_9/attention/output/dense/bias:0, shape = (768,), *INIT_FROM_CKPT*\n",
            "I0204 04:15:02.678273 140126425450368 extract_features.py:201]   name = bert/encoder/layer_9/attention/output/dense/bias:0, shape = (768,), *INIT_FROM_CKPT*\n",
            "INFO:tensorflow:  name = bert/encoder/layer_9/attention/output/LayerNorm/beta:0, shape = (768,), *INIT_FROM_CKPT*\n",
            "I0204 04:15:02.678394 140126425450368 extract_features.py:201]   name = bert/encoder/layer_9/attention/output/LayerNorm/beta:0, shape = (768,), *INIT_FROM_CKPT*\n",
            "INFO:tensorflow:  name = bert/encoder/layer_9/attention/output/LayerNorm/gamma:0, shape = (768,), *INIT_FROM_CKPT*\n",
            "I0204 04:15:02.678508 140126425450368 extract_features.py:201]   name = bert/encoder/layer_9/attention/output/LayerNorm/gamma:0, shape = (768,), *INIT_FROM_CKPT*\n",
            "INFO:tensorflow:  name = bert/encoder/layer_9/intermediate/dense/kernel:0, shape = (768, 3072), *INIT_FROM_CKPT*\n",
            "I0204 04:15:02.678628 140126425450368 extract_features.py:201]   name = bert/encoder/layer_9/intermediate/dense/kernel:0, shape = (768, 3072), *INIT_FROM_CKPT*\n",
            "INFO:tensorflow:  name = bert/encoder/layer_9/intermediate/dense/bias:0, shape = (3072,), *INIT_FROM_CKPT*\n",
            "I0204 04:15:02.678754 140126425450368 extract_features.py:201]   name = bert/encoder/layer_9/intermediate/dense/bias:0, shape = (3072,), *INIT_FROM_CKPT*\n",
            "INFO:tensorflow:  name = bert/encoder/layer_9/output/dense/kernel:0, shape = (3072, 768), *INIT_FROM_CKPT*\n",
            "I0204 04:15:02.678884 140126425450368 extract_features.py:201]   name = bert/encoder/layer_9/output/dense/kernel:0, shape = (3072, 768), *INIT_FROM_CKPT*\n",
            "INFO:tensorflow:  name = bert/encoder/layer_9/output/dense/bias:0, shape = (768,), *INIT_FROM_CKPT*\n",
            "I0204 04:15:02.679033 140126425450368 extract_features.py:201]   name = bert/encoder/layer_9/output/dense/bias:0, shape = (768,), *INIT_FROM_CKPT*\n",
            "INFO:tensorflow:  name = bert/encoder/layer_9/output/LayerNorm/beta:0, shape = (768,), *INIT_FROM_CKPT*\n",
            "I0204 04:15:02.679153 140126425450368 extract_features.py:201]   name = bert/encoder/layer_9/output/LayerNorm/beta:0, shape = (768,), *INIT_FROM_CKPT*\n",
            "INFO:tensorflow:  name = bert/encoder/layer_9/output/LayerNorm/gamma:0, shape = (768,), *INIT_FROM_CKPT*\n",
            "I0204 04:15:02.679283 140126425450368 extract_features.py:201]   name = bert/encoder/layer_9/output/LayerNorm/gamma:0, shape = (768,), *INIT_FROM_CKPT*\n",
            "INFO:tensorflow:  name = bert/encoder/layer_10/attention/self/query/kernel:0, shape = (768, 768), *INIT_FROM_CKPT*\n",
            "I0204 04:15:02.679418 140126425450368 extract_features.py:201]   name = bert/encoder/layer_10/attention/self/query/kernel:0, shape = (768, 768), *INIT_FROM_CKPT*\n",
            "INFO:tensorflow:  name = bert/encoder/layer_10/attention/self/query/bias:0, shape = (768,), *INIT_FROM_CKPT*\n",
            "I0204 04:15:02.679545 140126425450368 extract_features.py:201]   name = bert/encoder/layer_10/attention/self/query/bias:0, shape = (768,), *INIT_FROM_CKPT*\n",
            "INFO:tensorflow:  name = bert/encoder/layer_10/attention/self/key/kernel:0, shape = (768, 768), *INIT_FROM_CKPT*\n",
            "I0204 04:15:02.679685 140126425450368 extract_features.py:201]   name = bert/encoder/layer_10/attention/self/key/kernel:0, shape = (768, 768), *INIT_FROM_CKPT*\n",
            "INFO:tensorflow:  name = bert/encoder/layer_10/attention/self/key/bias:0, shape = (768,), *INIT_FROM_CKPT*\n",
            "I0204 04:15:02.679830 140126425450368 extract_features.py:201]   name = bert/encoder/layer_10/attention/self/key/bias:0, shape = (768,), *INIT_FROM_CKPT*\n",
            "INFO:tensorflow:  name = bert/encoder/layer_10/attention/self/value/kernel:0, shape = (768, 768), *INIT_FROM_CKPT*\n",
            "I0204 04:15:02.679981 140126425450368 extract_features.py:201]   name = bert/encoder/layer_10/attention/self/value/kernel:0, shape = (768, 768), *INIT_FROM_CKPT*\n",
            "INFO:tensorflow:  name = bert/encoder/layer_10/attention/self/value/bias:0, shape = (768,), *INIT_FROM_CKPT*\n",
            "I0204 04:15:02.680126 140126425450368 extract_features.py:201]   name = bert/encoder/layer_10/attention/self/value/bias:0, shape = (768,), *INIT_FROM_CKPT*\n",
            "INFO:tensorflow:  name = bert/encoder/layer_10/attention/output/dense/kernel:0, shape = (768, 768), *INIT_FROM_CKPT*\n",
            "I0204 04:15:02.680253 140126425450368 extract_features.py:201]   name = bert/encoder/layer_10/attention/output/dense/kernel:0, shape = (768, 768), *INIT_FROM_CKPT*\n",
            "INFO:tensorflow:  name = bert/encoder/layer_10/attention/output/dense/bias:0, shape = (768,), *INIT_FROM_CKPT*\n",
            "I0204 04:15:02.680391 140126425450368 extract_features.py:201]   name = bert/encoder/layer_10/attention/output/dense/bias:0, shape = (768,), *INIT_FROM_CKPT*\n",
            "INFO:tensorflow:  name = bert/encoder/layer_10/attention/output/LayerNorm/beta:0, shape = (768,), *INIT_FROM_CKPT*\n",
            "I0204 04:15:02.680521 140126425450368 extract_features.py:201]   name = bert/encoder/layer_10/attention/output/LayerNorm/beta:0, shape = (768,), *INIT_FROM_CKPT*\n",
            "INFO:tensorflow:  name = bert/encoder/layer_10/attention/output/LayerNorm/gamma:0, shape = (768,), *INIT_FROM_CKPT*\n",
            "I0204 04:15:02.680686 140126425450368 extract_features.py:201]   name = bert/encoder/layer_10/attention/output/LayerNorm/gamma:0, shape = (768,), *INIT_FROM_CKPT*\n",
            "INFO:tensorflow:  name = bert/encoder/layer_10/intermediate/dense/kernel:0, shape = (768, 3072), *INIT_FROM_CKPT*\n",
            "I0204 04:15:02.680870 140126425450368 extract_features.py:201]   name = bert/encoder/layer_10/intermediate/dense/kernel:0, shape = (768, 3072), *INIT_FROM_CKPT*\n",
            "INFO:tensorflow:  name = bert/encoder/layer_10/intermediate/dense/bias:0, shape = (3072,), *INIT_FROM_CKPT*\n",
            "I0204 04:15:02.681019 140126425450368 extract_features.py:201]   name = bert/encoder/layer_10/intermediate/dense/bias:0, shape = (3072,), *INIT_FROM_CKPT*\n",
            "INFO:tensorflow:  name = bert/encoder/layer_10/output/dense/kernel:0, shape = (3072, 768), *INIT_FROM_CKPT*\n",
            "I0204 04:15:02.681165 140126425450368 extract_features.py:201]   name = bert/encoder/layer_10/output/dense/kernel:0, shape = (3072, 768), *INIT_FROM_CKPT*\n",
            "INFO:tensorflow:  name = bert/encoder/layer_10/output/dense/bias:0, shape = (768,), *INIT_FROM_CKPT*\n",
            "I0204 04:15:02.681315 140126425450368 extract_features.py:201]   name = bert/encoder/layer_10/output/dense/bias:0, shape = (768,), *INIT_FROM_CKPT*\n",
            "INFO:tensorflow:  name = bert/encoder/layer_10/output/LayerNorm/beta:0, shape = (768,), *INIT_FROM_CKPT*\n",
            "I0204 04:15:02.681458 140126425450368 extract_features.py:201]   name = bert/encoder/layer_10/output/LayerNorm/beta:0, shape = (768,), *INIT_FROM_CKPT*\n",
            "INFO:tensorflow:  name = bert/encoder/layer_10/output/LayerNorm/gamma:0, shape = (768,), *INIT_FROM_CKPT*\n",
            "I0204 04:15:02.681593 140126425450368 extract_features.py:201]   name = bert/encoder/layer_10/output/LayerNorm/gamma:0, shape = (768,), *INIT_FROM_CKPT*\n",
            "INFO:tensorflow:  name = bert/encoder/layer_11/attention/self/query/kernel:0, shape = (768, 768), *INIT_FROM_CKPT*\n",
            "I0204 04:15:02.681712 140126425450368 extract_features.py:201]   name = bert/encoder/layer_11/attention/self/query/kernel:0, shape = (768, 768), *INIT_FROM_CKPT*\n",
            "INFO:tensorflow:  name = bert/encoder/layer_11/attention/self/query/bias:0, shape = (768,), *INIT_FROM_CKPT*\n",
            "I0204 04:15:02.681846 140126425450368 extract_features.py:201]   name = bert/encoder/layer_11/attention/self/query/bias:0, shape = (768,), *INIT_FROM_CKPT*\n",
            "INFO:tensorflow:  name = bert/encoder/layer_11/attention/self/key/kernel:0, shape = (768, 768), *INIT_FROM_CKPT*\n",
            "I0204 04:15:02.681988 140126425450368 extract_features.py:201]   name = bert/encoder/layer_11/attention/self/key/kernel:0, shape = (768, 768), *INIT_FROM_CKPT*\n",
            "INFO:tensorflow:  name = bert/encoder/layer_11/attention/self/key/bias:0, shape = (768,), *INIT_FROM_CKPT*\n",
            "I0204 04:15:02.682136 140126425450368 extract_features.py:201]   name = bert/encoder/layer_11/attention/self/key/bias:0, shape = (768,), *INIT_FROM_CKPT*\n",
            "INFO:tensorflow:  name = bert/encoder/layer_11/attention/self/value/kernel:0, shape = (768, 768), *INIT_FROM_CKPT*\n",
            "I0204 04:15:02.682271 140126425450368 extract_features.py:201]   name = bert/encoder/layer_11/attention/self/value/kernel:0, shape = (768, 768), *INIT_FROM_CKPT*\n",
            "INFO:tensorflow:  name = bert/encoder/layer_11/attention/self/value/bias:0, shape = (768,), *INIT_FROM_CKPT*\n",
            "I0204 04:15:02.682401 140126425450368 extract_features.py:201]   name = bert/encoder/layer_11/attention/self/value/bias:0, shape = (768,), *INIT_FROM_CKPT*\n",
            "INFO:tensorflow:  name = bert/encoder/layer_11/attention/output/dense/kernel:0, shape = (768, 768), *INIT_FROM_CKPT*\n",
            "I0204 04:15:02.682520 140126425450368 extract_features.py:201]   name = bert/encoder/layer_11/attention/output/dense/kernel:0, shape = (768, 768), *INIT_FROM_CKPT*\n",
            "INFO:tensorflow:  name = bert/encoder/layer_11/attention/output/dense/bias:0, shape = (768,), *INIT_FROM_CKPT*\n",
            "I0204 04:15:02.682649 140126425450368 extract_features.py:201]   name = bert/encoder/layer_11/attention/output/dense/bias:0, shape = (768,), *INIT_FROM_CKPT*\n",
            "INFO:tensorflow:  name = bert/encoder/layer_11/attention/output/LayerNorm/beta:0, shape = (768,), *INIT_FROM_CKPT*\n",
            "I0204 04:15:02.682770 140126425450368 extract_features.py:201]   name = bert/encoder/layer_11/attention/output/LayerNorm/beta:0, shape = (768,), *INIT_FROM_CKPT*\n",
            "INFO:tensorflow:  name = bert/encoder/layer_11/attention/output/LayerNorm/gamma:0, shape = (768,), *INIT_FROM_CKPT*\n",
            "I0204 04:15:02.682914 140126425450368 extract_features.py:201]   name = bert/encoder/layer_11/attention/output/LayerNorm/gamma:0, shape = (768,), *INIT_FROM_CKPT*\n",
            "INFO:tensorflow:  name = bert/encoder/layer_11/intermediate/dense/kernel:0, shape = (768, 3072), *INIT_FROM_CKPT*\n",
            "I0204 04:15:02.683042 140126425450368 extract_features.py:201]   name = bert/encoder/layer_11/intermediate/dense/kernel:0, shape = (768, 3072), *INIT_FROM_CKPT*\n",
            "INFO:tensorflow:  name = bert/encoder/layer_11/intermediate/dense/bias:0, shape = (3072,), *INIT_FROM_CKPT*\n",
            "I0204 04:15:02.683170 140126425450368 extract_features.py:201]   name = bert/encoder/layer_11/intermediate/dense/bias:0, shape = (3072,), *INIT_FROM_CKPT*\n",
            "INFO:tensorflow:  name = bert/encoder/layer_11/output/dense/kernel:0, shape = (3072, 768), *INIT_FROM_CKPT*\n",
            "I0204 04:15:02.683294 140126425450368 extract_features.py:201]   name = bert/encoder/layer_11/output/dense/kernel:0, shape = (3072, 768), *INIT_FROM_CKPT*\n",
            "INFO:tensorflow:  name = bert/encoder/layer_11/output/dense/bias:0, shape = (768,), *INIT_FROM_CKPT*\n",
            "I0204 04:15:02.683424 140126425450368 extract_features.py:201]   name = bert/encoder/layer_11/output/dense/bias:0, shape = (768,), *INIT_FROM_CKPT*\n",
            "INFO:tensorflow:  name = bert/encoder/layer_11/output/LayerNorm/beta:0, shape = (768,), *INIT_FROM_CKPT*\n",
            "I0204 04:15:02.683544 140126425450368 extract_features.py:201]   name = bert/encoder/layer_11/output/LayerNorm/beta:0, shape = (768,), *INIT_FROM_CKPT*\n",
            "INFO:tensorflow:  name = bert/encoder/layer_11/output/LayerNorm/gamma:0, shape = (768,), *INIT_FROM_CKPT*\n",
            "I0204 04:15:02.683664 140126425450368 extract_features.py:201]   name = bert/encoder/layer_11/output/LayerNorm/gamma:0, shape = (768,), *INIT_FROM_CKPT*\n",
            "INFO:tensorflow:  name = bert/pooler/dense/kernel:0, shape = (768, 768), *INIT_FROM_CKPT*\n",
            "I0204 04:15:02.683785 140126425450368 extract_features.py:201]   name = bert/pooler/dense/kernel:0, shape = (768, 768), *INIT_FROM_CKPT*\n",
            "INFO:tensorflow:  name = bert/pooler/dense/bias:0, shape = (768,), *INIT_FROM_CKPT*\n",
            "I0204 04:15:02.683945 140126425450368 extract_features.py:201]   name = bert/pooler/dense/bias:0, shape = (768,), *INIT_FROM_CKPT*\n",
            "INFO:tensorflow:Done calling model_fn.\n",
            "I0204 04:15:02.684545 140126425450368 estimator.py:1150] Done calling model_fn.\n",
            "WARNING:tensorflow:From /usr/local/lib/python3.6/dist-packages/tensorflow_core/python/ops/array_ops.py:1475: where (from tensorflow.python.ops.array_ops) is deprecated and will be removed in a future version.\n",
            "Instructions for updating:\n",
            "Use tf.where in 2.0, which has the same broadcast rule as np.where\n",
            "W0204 04:15:02.813458 140126425450368 deprecation.py:323] From /usr/local/lib/python3.6/dist-packages/tensorflow_core/python/ops/array_ops.py:1475: where (from tensorflow.python.ops.array_ops) is deprecated and will be removed in a future version.\n",
            "Instructions for updating:\n",
            "Use tf.where in 2.0, which has the same broadcast rule as np.where\n",
            "INFO:tensorflow:Graph was finalized.\n",
            "I0204 04:15:03.103069 140126425450368 monitored_session.py:240] Graph was finalized.\n",
            "2020-02-04 04:15:03.108197: I tensorflow/core/platform/profile_utils/cpu_utils.cc:94] CPU Frequency: 2300000000 Hz\n",
            "2020-02-04 04:15:03.108454: I tensorflow/compiler/xla/service/service.cc:168] XLA service 0x24552c0 initialized for platform Host (this does not guarantee that XLA will be used). Devices:\n",
            "2020-02-04 04:15:03.108489: I tensorflow/compiler/xla/service/service.cc:176]   StreamExecutor device (0): Host, Default Version\n",
            "2020-02-04 04:15:03.110544: I tensorflow/stream_executor/platform/default/dso_loader.cc:44] Successfully opened dynamic library libcuda.so.1\n",
            "2020-02-04 04:15:03.259773: I tensorflow/stream_executor/cuda/cuda_gpu_executor.cc:983] successful NUMA node read from SysFS had negative value (-1), but there must be at least one NUMA node, so returning NUMA node zero\n",
            "2020-02-04 04:15:03.260495: I tensorflow/compiler/xla/service/service.cc:168] XLA service 0x2455480 initialized for platform CUDA (this does not guarantee that XLA will be used). Devices:\n",
            "2020-02-04 04:15:03.260526: I tensorflow/compiler/xla/service/service.cc:176]   StreamExecutor device (0): Tesla T4, Compute Capability 7.5\n",
            "2020-02-04 04:15:03.260735: I tensorflow/stream_executor/cuda/cuda_gpu_executor.cc:983] successful NUMA node read from SysFS had negative value (-1), but there must be at least one NUMA node, so returning NUMA node zero\n",
            "2020-02-04 04:15:03.261277: I tensorflow/core/common_runtime/gpu/gpu_device.cc:1618] Found device 0 with properties: \n",
            "name: Tesla T4 major: 7 minor: 5 memoryClockRate(GHz): 1.59\n",
            "pciBusID: 0000:00:04.0\n",
            "2020-02-04 04:15:03.261576: I tensorflow/stream_executor/platform/default/dso_loader.cc:44] Successfully opened dynamic library libcudart.so.10.1\n",
            "2020-02-04 04:15:03.263176: I tensorflow/stream_executor/platform/default/dso_loader.cc:44] Successfully opened dynamic library libcublas.so.10\n",
            "2020-02-04 04:15:03.264770: I tensorflow/stream_executor/platform/default/dso_loader.cc:44] Successfully opened dynamic library libcufft.so.10\n",
            "2020-02-04 04:15:03.265155: I tensorflow/stream_executor/platform/default/dso_loader.cc:44] Successfully opened dynamic library libcurand.so.10\n",
            "2020-02-04 04:15:03.266800: I tensorflow/stream_executor/platform/default/dso_loader.cc:44] Successfully opened dynamic library libcusolver.so.10\n",
            "2020-02-04 04:15:03.267500: I tensorflow/stream_executor/platform/default/dso_loader.cc:44] Successfully opened dynamic library libcusparse.so.10\n",
            "2020-02-04 04:15:03.270783: I tensorflow/stream_executor/platform/default/dso_loader.cc:44] Successfully opened dynamic library libcudnn.so.7\n",
            "2020-02-04 04:15:03.270984: I tensorflow/stream_executor/cuda/cuda_gpu_executor.cc:983] successful NUMA node read from SysFS had negative value (-1), but there must be at least one NUMA node, so returning NUMA node zero\n",
            "2020-02-04 04:15:03.271616: I tensorflow/stream_executor/cuda/cuda_gpu_executor.cc:983] successful NUMA node read from SysFS had negative value (-1), but there must be at least one NUMA node, so returning NUMA node zero\n",
            "2020-02-04 04:15:03.272333: I tensorflow/core/common_runtime/gpu/gpu_device.cc:1746] Adding visible gpu devices: 0\n",
            "2020-02-04 04:15:03.272427: I tensorflow/stream_executor/platform/default/dso_loader.cc:44] Successfully opened dynamic library libcudart.so.10.1\n",
            "2020-02-04 04:15:03.273968: I tensorflow/core/common_runtime/gpu/gpu_device.cc:1159] Device interconnect StreamExecutor with strength 1 edge matrix:\n",
            "2020-02-04 04:15:03.273996: I tensorflow/core/common_runtime/gpu/gpu_device.cc:1165]      0 \n",
            "2020-02-04 04:15:03.274006: I tensorflow/core/common_runtime/gpu/gpu_device.cc:1178] 0:   N \n",
            "2020-02-04 04:15:03.274151: I tensorflow/stream_executor/cuda/cuda_gpu_executor.cc:983] successful NUMA node read from SysFS had negative value (-1), but there must be at least one NUMA node, so returning NUMA node zero\n",
            "2020-02-04 04:15:03.274759: I tensorflow/stream_executor/cuda/cuda_gpu_executor.cc:983] successful NUMA node read from SysFS had negative value (-1), but there must be at least one NUMA node, so returning NUMA node zero\n",
            "2020-02-04 04:15:03.275274: W tensorflow/core/common_runtime/gpu/gpu_bfc_allocator.cc:39] Overriding allow_growth setting because the TF_FORCE_GPU_ALLOW_GROWTH environment variable is set. Original config value was 0.\n",
            "2020-02-04 04:15:03.275311: I tensorflow/core/common_runtime/gpu/gpu_device.cc:1304] Created TensorFlow device (/job:localhost/replica:0/task:0/device:GPU:0 with 14221 MB memory) -> physical GPU (device: 0, name: Tesla T4, pci bus id: 0000:00:04.0, compute capability: 7.5)\n",
            "INFO:tensorflow:Running local_init_op.\n",
            "I0204 04:15:04.192751 140126425450368 session_manager.py:500] Running local_init_op.\n",
            "INFO:tensorflow:Done running local_init_op.\n",
            "I0204 04:15:04.240386 140126425450368 session_manager.py:502] Done running local_init_op.\n",
            "2020-02-04 04:15:04.744401: I tensorflow/stream_executor/platform/default/dso_loader.cc:44] Successfully opened dynamic library libcublas.so.10\n",
            "INFO:tensorflow:prediction_loop marked as finished\n",
            "I0204 04:15:13.386180 140126425450368 error_handling.py:101] prediction_loop marked as finished\n",
            "INFO:tensorflow:prediction_loop marked as finished\n",
            "I0204 04:15:13.386409 140126425450368 error_handling.py:101] prediction_loop marked as finished\n"
          ],
          "name": "stdout"
        }
      ]
    },
    {
      "cell_type": "code",
      "metadata": {
        "id": "8tG_zvi_S9T5",
        "colab_type": "code",
        "colab": {
          "base_uri": "https://localhost:8080/",
          "height": 68
        },
        "outputId": "5782bbb6-1807-4f66-e1ef-c21be7264744"
      },
      "source": [
        "!gsutil cp output.txt  gs://hisaka/"
      ],
      "execution_count": 48,
      "outputs": [
        {
          "output_type": "stream",
          "text": [
            "Copying file://output.txt [Content-Type=text/plain]...\n",
            "/ [1 files][  7.9 KiB/  7.9 KiB]                                                \n",
            "Operation completed over 1 objects/7.9 KiB.                                      \n"
          ],
          "name": "stdout"
        }
      ]
    },
    {
      "cell_type": "markdown",
      "metadata": {
        "id": "oRKEPjoEdS5e",
        "colab_type": "text"
      },
      "source": [
        ""
      ]
    },
    {
      "cell_type": "code",
      "metadata": {
        "id": "4RigLu1-dTHd",
        "colab_type": "code",
        "colab": {
          "base_uri": "https://localhost:8080/",
          "height": 84
        },
        "outputId": "1a925e61-9975-4863-8669-c2e6407e5936"
      },
      "source": [
        "!ls"
      ],
      "execution_count": 51,
      "outputs": [
        {
          "output_type": "stream",
          "text": [
            "bert-japanese\t\t\t   finetune-to-livedoor-corpus.ipynb\n",
            "check-extract-features.ipynb\t   output.txt\n",
            "check-trained-tokenizer.ipynb\t   pretraining.ipynb\n",
            "finetune_to_livedoor_corpus.ipynb\n"
          ],
          "name": "stdout"
        }
      ]
    },
    {
      "cell_type": "code",
      "metadata": {
        "id": "tYR2R8M8T95b",
        "colab_type": "code",
        "colab": {
          "base_uri": "https://localhost:8080/",
          "height": 34
        },
        "outputId": "dbb5ae9b-c1b9-44dd-a2e3-b652711843a0"
      },
      "source": [
        "!echo output.txt"
      ],
      "execution_count": 52,
      "outputs": [
        {
          "output_type": "stream",
          "text": [
            "output.txt\n"
          ],
          "name": "stdout"
        }
      ]
    },
    {
      "cell_type": "markdown",
      "metadata": {
        "id": "KrHOhEUNW-IC",
        "colab_type": "text"
      },
      "source": [
        "Let's have a look at the features of the last layer for the word \"人間\".\n",
        "\n",
        "The 0-th token is always [CLS], and the 1st token of a sentence is [▁]. So the word comes in 3rd position."
      ]
    },
    {
      "cell_type": "code",
      "metadata": {
        "id": "__iBe8kzS3f8",
        "colab_type": "code",
        "colab": {
          "base_uri": "https://localhost:8080/",
          "height": 121
        },
        "outputId": "4f292097-4751-47b1-c494-b3e42181f232"
      },
      "source": [
        "from google.colab import drive\n",
        "drive.mount('/content/drive')"
      ],
      "execution_count": 44,
      "outputs": [
        {
          "output_type": "stream",
          "text": [
            "Go to this URL in a browser: https://accounts.google.com/o/oauth2/auth?client_id=947318989803-6bn6qk8qdgf4n4g3pfee6491hc0brc4i.apps.googleusercontent.com&redirect_uri=urn%3aietf%3awg%3aoauth%3a2.0%3aoob&response_type=code&scope=email%20https%3a%2f%2fwww.googleapis.com%2fauth%2fdocs.test%20https%3a%2f%2fwww.googleapis.com%2fauth%2fdrive%20https%3a%2f%2fwww.googleapis.com%2fauth%2fdrive.photos.readonly%20https%3a%2f%2fwww.googleapis.com%2fauth%2fpeopleapi.readonly\n",
            "\n",
            "Enter your authorization code:\n",
            "··········\n",
            "Mounted at /content/drive\n"
          ],
          "name": "stdout"
        }
      ]
    },
    {
      "cell_type": "code",
      "metadata": {
        "id": "o1-AwiZOW-ID",
        "colab_type": "code",
        "colab": {}
      },
      "source": [
        "import json\n",
        "import numpy as np\n",
        "data1 = np.ndarray([])\n",
        "i = 0\n",
        "with open('./output.txt') as fin:\n",
        "    for i,line in enumerate(fin):\n",
        "        data = json.loads(line)\n",
        "        value = data['features'][0]['layers'][0]['values']\n",
        "        value = value/np.linalg.norm(value)\n",
        "        value = np.round(value,2)\n",
        "        if i == 0:\n",
        "          data1 = value\n",
        "        else:\n",
        "          data1 = np.vstack((data1, value ) )\n",
        "          \n",
        "        if (i + 1 )% 1000 == 0:\n",
        "          print(value[0])"
      ],
      "execution_count": 0,
      "outputs": []
    },
    {
      "cell_type": "code",
      "metadata": {
        "id": "6V2nRq6PXyu8",
        "colab_type": "code",
        "colab": {
          "base_uri": "https://localhost:8080/",
          "height": 135
        },
        "outputId": "8adb6adc-8529-426a-b898-f34095a94ef3"
      },
      "source": [
        "data1"
      ],
      "execution_count": 84,
      "outputs": [
        {
          "output_type": "execute_result",
          "data": {
            "text/plain": [
              "array([[ 0.04,  0.04,  0.06, ..., -0.01, -0.  ,  0.01],\n",
              "       [ 0.  ,  0.04,  0.03, ..., -0.04,  0.01, -0.  ],\n",
              "       [ 0.02,  0.08,  0.06, ..., -0.02, -0.02,  0.  ],\n",
              "       ...,\n",
              "       [-0.01,  0.04,  0.02, ..., -0.02, -0.  , -0.02],\n",
              "       [ 0.02,  0.01, -0.02, ..., -0.  ,  0.03, -0.  ],\n",
              "       [ 0.02,  0.01,  0.02, ..., -0.02,  0.02, -0.01]])"
            ]
          },
          "metadata": {
            "tags": []
          },
          "execution_count": 84
        }
      ]
    },
    {
      "cell_type": "code",
      "metadata": {
        "id": "iWFZbuA5X_D-",
        "colab_type": "code",
        "colab": {}
      },
      "source": [
        "b = np.dot(data1,data1.T)"
      ],
      "execution_count": 0,
      "outputs": []
    },
    {
      "cell_type": "code",
      "metadata": {
        "id": "2Dd7OvWTYCgP",
        "colab_type": "code",
        "colab": {
          "base_uri": "https://localhost:8080/",
          "height": 456
        },
        "outputId": "9c3cc863-6ff8-449b-863a-056b6de11978"
      },
      "source": [
        "b"
      ],
      "execution_count": 69,
      "outputs": [
        {
          "output_type": "execute_result",
          "data": {
            "text/plain": [
              "array([[1.0117, 0.6799, 0.8006, 0.6252, 0.6463, 0.58  , 0.6252, 0.6714,\n",
              "        0.6405, 0.6016, 0.5482, 0.5813, 0.7019],\n",
              "       [0.6799, 1.    , 0.7588, 0.6594, 0.6394, 0.7688, 0.716 , 0.5865,\n",
              "        0.5763, 0.5847, 0.5373, 0.5404, 0.6324],\n",
              "       [0.8006, 0.7588, 1.0151, 0.6685, 0.798 , 0.6438, 0.6308, 0.6083,\n",
              "        0.6139, 0.5923, 0.5516, 0.5879, 0.7001],\n",
              "       [0.6252, 0.6594, 0.6685, 1.0088, 0.6273, 0.6904, 0.6571, 0.5086,\n",
              "        0.4656, 0.5272, 0.4878, 0.4639, 0.518 ],\n",
              "       [0.6463, 0.6394, 0.798 , 0.6273, 0.9919, 0.6009, 0.5998, 0.5079,\n",
              "        0.5123, 0.5603, 0.5342, 0.4993, 0.5777],\n",
              "       [0.58  , 0.7688, 0.6438, 0.6904, 0.6009, 1.0046, 0.7537, 0.5236,\n",
              "        0.4732, 0.4997, 0.4905, 0.4841, 0.543 ],\n",
              "       [0.6252, 0.716 , 0.6308, 0.6571, 0.5998, 0.7537, 1.009 , 0.54  ,\n",
              "        0.5036, 0.4965, 0.4842, 0.4477, 0.5283],\n",
              "       [0.6714, 0.5865, 0.6083, 0.5086, 0.5079, 0.5236, 0.54  , 1.003 ,\n",
              "        0.7126, 0.6714, 0.5834, 0.5616, 0.7093],\n",
              "       [0.6405, 0.5763, 0.6139, 0.4656, 0.5123, 0.4732, 0.5036, 0.7126,\n",
              "        1.0028, 0.6944, 0.6478, 0.6576, 0.8298],\n",
              "       [0.6016, 0.5847, 0.5923, 0.5272, 0.5603, 0.4997, 0.4965, 0.6714,\n",
              "        0.6944, 0.9983, 0.8232, 0.6378, 0.7131],\n",
              "       [0.5482, 0.5373, 0.5516, 0.4878, 0.5342, 0.4905, 0.4842, 0.5834,\n",
              "        0.6478, 0.8232, 1.0147, 0.5917, 0.621 ],\n",
              "       [0.5813, 0.5404, 0.5879, 0.4639, 0.4993, 0.4841, 0.4477, 0.5616,\n",
              "        0.6576, 0.6378, 0.5917, 1.0068, 0.7836],\n",
              "       [0.7019, 0.6324, 0.7001, 0.518 , 0.5777, 0.543 , 0.5283, 0.7093,\n",
              "        0.8298, 0.7131, 0.621 , 0.7836, 1.0168]])"
            ]
          },
          "metadata": {
            "tags": []
          },
          "execution_count": 69
        }
      ]
    },
    {
      "cell_type": "code",
      "metadata": {
        "id": "Unuq02a5YDyX",
        "colab_type": "code",
        "colab": {}
      },
      "source": [
        "b_sort = np.sort(b,axis=0)[::-1]"
      ],
      "execution_count": 0,
      "outputs": []
    },
    {
      "cell_type": "code",
      "metadata": {
        "id": "nmUJNixTYT0P",
        "colab_type": "code",
        "colab": {}
      },
      "source": [
        "np.savetxt('_sort.txt',b_sort)"
      ],
      "execution_count": 0,
      "outputs": []
    },
    {
      "cell_type": "code",
      "metadata": {
        "id": "AxH22UMjYPyu",
        "colab_type": "code",
        "colab": {}
      },
      "source": [
        "b_argsort = np.argsort(b,axis=0)[::-1]"
      ],
      "execution_count": 0,
      "outputs": []
    },
    {
      "cell_type": "code",
      "metadata": {
        "id": "i3aTlmjlYY6v",
        "colab_type": "code",
        "colab": {}
      },
      "source": [
        "np.savetxt('_argsort.txt',b_argsort )"
      ],
      "execution_count": 0,
      "outputs": []
    },
    {
      "cell_type": "markdown",
      "metadata": {
        "id": "FNTTo9HcW-IH",
        "colab_type": "text"
      },
      "source": [
        "The last year is layer 0, the one before is layer -1, etc...\n",
        "The embeddings are stored in the *values* entry."
      ]
    },
    {
      "cell_type": "code",
      "metadata": {
        "id": "alKoG324Yv_g",
        "colab_type": "code",
        "colab": {}
      },
      "source": [
        "import pandas as pd"
      ],
      "execution_count": 0,
      "outputs": []
    },
    {
      "cell_type": "code",
      "metadata": {
        "id": "5gsVXVHEYyWB",
        "colab_type": "code",
        "colab": {}
      },
      "source": [
        "df = pd.read_csv('_argsort.txt',sep=' ',header = None,dtype=int)\n",
        "dfsort = pd.read_csv('_sort.txt',sep=' ',header = None)\n",
        "dfname = pd.read_csv('name.txt',sep=',',header = None )"
      ],
      "execution_count": 0,
      "outputs": []
    },
    {
      "cell_type": "code",
      "metadata": {
        "id": "QFk6QuFLY7Wa",
        "colab_type": "code",
        "colab": {}
      },
      "source": [
        "name_dict = dfname.iloc[:,0].to_dict()"
      ],
      "execution_count": 0,
      "outputs": []
    },
    {
      "cell_type": "code",
      "metadata": {
        "id": "PnjDdJgiY-Fo",
        "colab_type": "code",
        "colab": {}
      },
      "source": [
        "dfh = df.replace(name_dict)"
      ],
      "execution_count": 0,
      "outputs": []
    },
    {
      "cell_type": "code",
      "metadata": {
        "id": "BfV8f7PWZAn3",
        "colab_type": "code",
        "colab": {}
      },
      "source": [
        "dfsort = dfsort.drop(0)"
      ],
      "execution_count": 0,
      "outputs": []
    },
    {
      "cell_type": "code",
      "metadata": {
        "id": "kiWWho2VZDKb",
        "colab_type": "code",
        "colab": {}
      },
      "source": [
        "df_concat = pd.concat([dfh, dfsort])"
      ],
      "execution_count": 0,
      "outputs": []
    },
    {
      "cell_type": "code",
      "metadata": {
        "id": "1GZUNVm8ZFg_",
        "colab_type": "code",
        "colab": {}
      },
      "source": [
        "df_concat.to_csv('_match_result.csv' )"
      ],
      "execution_count": 0,
      "outputs": []
    },
    {
      "cell_type": "code",
      "metadata": {
        "id": "3sUFZaNUUlHq",
        "colab_type": "code",
        "colab": {
          "base_uri": "https://localhost:8080/",
          "height": 54
        },
        "outputId": "69168b6e-afc4-4416-d31b-41ab54eb4206"
      },
      "source": [
        "embeddings = outputs['features'][0]['layers'][0]['values']\n",
        "print(embeddings)"
      ],
      "execution_count": 60,
      "outputs": [
        {
          "output_type": "stream",
          "text": [
            "[-0.233959, -0.325433, 0.089562, -0.386527, -0.47084, -0.520039, 0.48815, 0.440312, 0.197197, -0.074321, 1.099765, -0.387714, 0.253115, -0.236305, 0.174472, -0.235986, -0.003577, -0.262003, -0.407707, -0.232782, -0.516261, -0.233449, 0.32312, 0.823211, -0.35089, 0.006149, 0.777077, -0.484005, -0.196059, -0.631205, 0.536703, 0.272169, -0.093169, 0.652542, 0.604407, 0.617713, -0.328718, -0.239253, -3.769789, 0.456251, -0.442339, 0.594171, -0.116508, -0.045895, -0.034626, -0.184103, 0.040546, -0.057511, -0.761704, 0.690995, 0.20544, -0.36067, -0.176512, 0.376884, -0.100889, -0.363698, -0.125896, -0.305863, -0.149599, 0.238806, 0.594984, -0.024143, -0.080567, -0.076503, 0.05906, -0.21033, -0.260536, -0.071279, -0.568184, -0.746496, 0.742599, -0.431422, -0.195619, 0.507251, 0.09836, -0.434843, -0.204632, 0.555118, 0.231745, -0.443035, -0.377361, -0.633929, -0.155787, 0.005052, 0.158219, -0.108095, 0.407048, 0.497056, 0.414791, -0.364791, -0.126182, 0.233514, 0.195897, -0.183161, -0.148266, -0.124157, 0.283262, 0.371043, 0.657002, 0.586253, -0.509405, -0.645742, 0.128937, 0.306505, 0.081571, 0.555102, -0.60468, 0.074481, -0.16712, -0.215497, 0.828161, -0.036435, -0.427686, 0.206196, 0.560137, -0.278295, -0.636681, 0.191985, 0.381695, -0.327989, 0.336066, -0.73974, 0.180636, -0.747493, -0.052512, -0.125164, -0.307093, -0.38527, 0.252021, -0.821871, 0.35493, 0.086408, -0.301417, -0.132565, -0.713624, 0.315712, -0.04247, -0.464352, -0.033887, -0.097967, -0.684354, 0.302134, -0.588139, 0.318032, -0.474877, 0.749199, -0.395274, 0.286664, -0.087288, 0.734407, -0.398258, -0.190806, 0.024443, -0.310807, -0.390711, -0.455075, -0.929876, 0.037844, 0.095705, 0.124496, -0.801835, 0.09866, 0.6334, 0.355197, 0.370718, -0.243481, 0.351613, 0.174118, 0.650199, -0.162792, 1.01037, -0.309622, 1.396649, -0.194105, 0.874072, -0.087902, 0.089459, 0.156319, -0.13867, 0.110523, -0.03875, 0.260455, -0.445621, 0.098333, -0.330904, 0.553608, 0.111393, 0.142244, 0.336378, 0.53207, -0.283871, -0.072924, 0.116386, -0.356391, -0.728806, 0.347008, -0.462089, -0.137738, 0.003298, 0.671, 0.160729, -0.444236, 0.453817, -0.247757, 0.324455, 0.485878, 0.071879, -0.36451, -0.486132, -0.253671, 0.219847, 0.048054, -0.716084, -0.193652, -0.431742, -0.424816, 0.060771, 0.326815, 0.021299, -0.62282, -0.309951, -0.193483, -0.262628, 0.168648, 0.662579, 0.210756, -0.1313, -0.125847, 0.157592, 0.035082, -0.894573, 0.176494, -0.233659, 0.290407, -0.06129, 0.38081, -0.403117, -0.093831, 0.344744, -0.210664, -0.309185, 0.177261, -0.159378, 0.069744, -0.47336, 0.340406, 0.162249, 0.575076, 0.598893, -0.75279, -0.444031, 0.223544, -0.221066, -0.637832, 0.183403, 0.534635, -0.391133, -0.150852, 0.40221, 0.26443, -0.625305, -0.199252, 0.123989, -0.227683, 0.258701, -0.542527, -0.323545, 0.748384, 0.36698, 0.044898, -0.788133, -0.176654, 0.294717, 0.013804, 0.683507, -0.238451, 0.383815, -0.283485, -0.187028, 0.134215, -0.457629, -0.066963, -0.288942, 0.062331, -0.136125, 0.1658, 0.071254, 0.437416, 0.258246, 0.297146, 0.394518, 0.341164, 0.705323, -0.372689, 0.086907, -0.218639, -0.076844, -0.331021, -0.306683, 0.467847, -0.16149, 0.150562, 0.650353, -0.213632, 0.495593, 0.673496, 0.172851, 0.5247, -0.20213, -0.172624, 0.48951, -0.062665, -0.901276, -0.230283, -0.141167, -0.314101, -0.150477, -0.291367, 0.041299, -0.085397, -0.006143, -0.14859, -0.41068, -0.580842, -0.217284, 0.41923, -0.064222, -0.424783, -0.36452, -0.220818, -0.245482, 0.376836, -0.341656, 0.710728, -0.360632, 0.434542, 0.426168, -0.202662, -0.133526, 0.190216, 0.146119, 0.307936, -0.679612, 1.019485, -0.10576, -0.056839, -0.55087, -0.151788, 0.0861, 0.267128, 0.221592, 0.190463, 0.40534, -0.460839, 0.074236, -0.266551, -0.629194, -0.032926, 0.408218, 0.231212, -0.390983, 0.240098, -0.368846, -0.04171, 0.169746, 1.330505, -0.826777, -0.53428, 0.174386, -0.569669, 0.589884, -0.052485, 0.049086, -0.312248, 0.889417, 0.734012, -1.230026, 0.249961, 0.2664, 0.007843, -0.472196, -0.142718, -0.132558, 0.05854, 0.040434, 0.042064, -0.22529, 0.502832, -0.23814, -0.18166, -0.201887, 0.108654, -0.639831, -0.319054, -0.120686, -0.327536, 0.597507, 0.261211, 0.753745, 0.249568, -0.132654, 0.762763, -0.199729, 0.07777, -0.761118, 0.011171, -0.242321, -0.693034, -0.70734, 0.50618, 0.494083, 0.20654, 0.116549, 0.01323, 0.901496, 0.35911, -0.699231, 0.141659, 0.50513, 0.080468, 0.184493, 0.668059, 0.160476, 0.260555, 0.117867, -0.492156, 0.505547, 1.435976, 0.545152, 0.860553, 0.341643, -0.429164, -1.075647, 0.416037, -0.08487, 1.012294, 0.509105, -0.111615, 0.014842, -0.023305, 0.114061, -0.458299, 0.113365, -0.052417, -0.682483, -0.296746, 0.246896, 0.159136, -0.104411, 0.233505, -0.680336, 1.516821, 0.312635, 0.091563, -0.422411, 0.559571, 0.52867, -0.271207, -0.379742, 0.221384, -0.248616, -0.073221, 0.046654, -0.577436, -0.170485, -0.211836, 0.291443, 0.121982, 0.015031, 0.732889, 0.424767, 0.136, 0.110461, 0.552092, 0.267411, 0.469518, -0.414672, -0.626966, -0.093282, 0.400779, -0.493864, 1.088859, 0.324538, 0.170212, 0.886905, 0.137668, 0.311632, -0.100637, -0.761414, 0.443377, -0.013692, 0.271, 0.498586, 0.846091, 1.093577, 0.871079, -0.164417, 0.454692, -0.599288, -0.167619, 0.297231, 0.425342, 0.021663, -0.60123, -0.281331, -0.235588, -0.513636, -0.283298, 0.153102, 0.269384, -0.588419, -0.046791, 0.06653, -0.699042, 0.087584, 0.167419, 0.753137, -0.671175, 0.763029, 0.174335, 0.449163, 0.472678, -0.163625, 0.137232, -0.37327, -0.328936, -0.041461, -0.320593, 0.180003, -0.438552, -0.246245, -0.091758, 0.477543, 0.332329, -0.186216, -0.622116, 0.234626, 0.605215, 0.367936, 0.245162, 0.869751, -0.124568, 0.447139, -0.289344, -0.035214, -0.167545, 0.29054, -0.312753, 0.373874, 0.426946, -0.206715, -0.271517, 1.034815, -0.264668, -0.314702, -0.248563, -0.207315, 0.17087, -0.749095, -0.467477, 0.030348, 0.038668, 0.210433, -0.61648, -0.336181, -1.98136, -0.762172, -0.611705, -0.785134, -0.028263, 0.205356, 0.10498, -0.127125, -0.017171, -0.017174, 0.595857, 0.241504, 0.617857, -0.355448, 0.109413, -0.065315, -0.60887, 0.782457, -0.037269, 0.038597, -0.321119, 0.504939, -0.168481, -0.294933, -0.344016, -0.536223, 0.358409, -0.479905, -0.507074, 0.590721, -0.542465, 0.194371, -0.173721, -0.345884, -0.061099, -0.133778, 0.010455, 0.219648, -9.774845, 0.577951, 0.614391, -0.020471, -0.947622, -0.087655, 0.363026, -0.952479, 0.593454, -0.152113, 0.234348, -1.146533, -0.835584, 0.287199, -0.409209, 0.301117, -0.067944, 0.073135, -0.004392, -0.384419, -0.814685, -0.32192, -0.75733, -0.109852, 0.07471, 0.965003, -0.299056, 0.534529, -0.320588, -0.035169, 0.337681, -0.649554, 0.293527, 0.001611, -0.160728, -0.35797, -0.072476, 0.39636, 0.147536, 0.048408, -0.122544, -0.019792, 0.454878, -0.219058, 0.878616, 0.139177, 0.309155, 0.843128, 0.106885, 0.66085, -0.526798, -0.33802, 0.520567, -0.180594, -0.083591, -0.722232, -0.681028, 0.573062, -0.3709, 0.271919, -0.531589, 0.645068, -0.060937, -0.320217, -0.042031, -0.608546, 0.913267, 0.9094, -0.223098, 1.003864, -0.035656, 0.088352, -0.512387, -0.321229, 0.538167, 0.136718, -0.600645, 0.049255, -0.331373, 0.084022, 0.862469, 0.086715, 0.11918, 0.187585, 0.405796, -0.052972, -0.101864, 0.581924, -0.536288, -0.585107, 0.5643, 0.104994, -0.495217, 0.622901, 0.359085, 0.149337, -0.145492, 0.341662, -0.352384, 0.374861, 0.323528, -0.181316, -0.186851, 0.121255, 0.476028, -0.227275, -0.099353, -0.05599, 1.003893, -0.02331, -0.034861, -0.190822, 0.229059, -0.069885, -0.329564, -0.245401, 0.963259, -0.415165, -0.125047, 0.1158, 0.666843, -0.101146, 0.17907, 0.59591, -0.324597, -0.15616, -0.372754, 0.345248, -0.023947, -0.084796, 1.199832, 0.358094, -0.336506, 1.000409, -0.139836, -0.313821, -0.178808, -0.270527, 0.098149, 1.161298, 0.229376, -0.742541, 0.26107, 0.023489, 0.533252, 0.743028, 0.309714, 0.479399, -0.406548, 0.700804, 0.885301, 0.201771, 0.361107, -0.507326, 0.491779, -0.363648, 0.45976, 0.151277, 0.2087, -0.835695, 0.140438, -1.033042, 0.045699, -0.390606, 0.437806]\n"
          ],
          "name": "stdout"
        }
      ]
    },
    {
      "cell_type": "code",
      "metadata": {
        "id": "XXYDVBnHW-II",
        "colab_type": "code",
        "outputId": "ba3730ae-d512-46cc-d6bb-57c148532d16",
        "colab": {
          "base_uri": "https://localhost:8080/",
          "height": 180
        }
      },
      "source": [
        "embeddings = outputs['features'][3]['layers'][0]['values']\n",
        "print(len(embeddings))"
      ],
      "execution_count": 55,
      "outputs": [
        {
          "output_type": "error",
          "ename": "IndexError",
          "evalue": "ignored",
          "traceback": [
            "\u001b[0;31m---------------------------------------------------------------------------\u001b[0m",
            "\u001b[0;31mIndexError\u001b[0m                                Traceback (most recent call last)",
            "\u001b[0;32m<ipython-input-55-189b11fc80a6>\u001b[0m in \u001b[0;36m<module>\u001b[0;34m()\u001b[0m\n\u001b[0;32m----> 1\u001b[0;31m \u001b[0membeddings\u001b[0m \u001b[0;34m=\u001b[0m \u001b[0moutputs\u001b[0m\u001b[0;34m[\u001b[0m\u001b[0;34m'features'\u001b[0m\u001b[0;34m]\u001b[0m\u001b[0;34m[\u001b[0m\u001b[0;36m3\u001b[0m\u001b[0;34m]\u001b[0m\u001b[0;34m[\u001b[0m\u001b[0;34m'layers'\u001b[0m\u001b[0;34m]\u001b[0m\u001b[0;34m[\u001b[0m\u001b[0;36m0\u001b[0m\u001b[0;34m]\u001b[0m\u001b[0;34m[\u001b[0m\u001b[0;34m'values'\u001b[0m\u001b[0;34m]\u001b[0m\u001b[0;34m\u001b[0m\u001b[0;34m\u001b[0m\u001b[0m\n\u001b[0m\u001b[1;32m      2\u001b[0m \u001b[0mprint\u001b[0m\u001b[0;34m(\u001b[0m\u001b[0mlen\u001b[0m\u001b[0;34m(\u001b[0m\u001b[0membeddings\u001b[0m\u001b[0;34m)\u001b[0m\u001b[0;34m)\u001b[0m\u001b[0;34m\u001b[0m\u001b[0;34m\u001b[0m\u001b[0m\n",
            "\u001b[0;31mIndexError\u001b[0m: list index out of range"
          ]
        }
      ]
    },
    {
      "cell_type": "code",
      "metadata": {
        "id": "QJVfDgCOW-IL",
        "colab_type": "code",
        "colab": {}
      },
      "source": [
        ""
      ],
      "execution_count": 0,
      "outputs": []
    }
  ]
}