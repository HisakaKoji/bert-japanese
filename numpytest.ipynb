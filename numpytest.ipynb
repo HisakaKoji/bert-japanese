{
  "nbformat": 4,
  "nbformat_minor": 0,
  "metadata": {
    "colab": {
      "name": "Colaboratory へようこそ",
      "provenance": [],
      "collapsed_sections": [],
      "toc_visible": true,
      "include_colab_link": true
    },
    "kernelspec": {
      "name": "python3",
      "display_name": "Python 3"
    },
    "accelerator": "GPU"
  },
  "cells": [
    {
      "cell_type": "markdown",
      "metadata": {
        "id": "view-in-github",
        "colab_type": "text"
      },
      "source": [
        "<a href=\"https://colab.research.google.com/github/HisakaKoji/bert-japanese/blob/master/numpytest.ipynb\" target=\"_parent\"><img src=\"https://colab.research.google.com/assets/colab-badge.svg\" alt=\"Open In Colab\"/></a>"
      ]
    },
    {
      "cell_type": "markdown",
      "metadata": {
        "colab_type": "text",
        "id": "5fCEDCU_qrC0"
      },
      "source": [
        "<p><img alt=\"Colaboratory logo\" height=\"45px\" src=\"https://colab.research.google.com/img/colab_favicon.ico\" align=\"left\" hspace=\"10px\" vspace=\"0px\"></p>\n",
        "\n",
        "<h1>Colaboratory へようこそ</h1>\n",
        "\n",
        "\n",
        "Colaboratory は、完全にクラウドで実行される Jupyter ノートブック環境です。設定不要で、無料でご利用になれます。\n",
        "\n",
        "Colaboratory を使用すると、コードの記述と実行、解析の保存や共有、強力なコンピューティング リソースへのアクセスなどをブラウザからすべて無料で行えます。"
      ]
    },
    {
      "cell_type": "code",
      "metadata": {
        "id": "wS9dVMVgM3cQ",
        "colab_type": "code",
        "colab": {}
      },
      "source": [
        ""
      ],
      "execution_count": 0,
      "outputs": []
    },
    {
      "cell_type": "code",
      "metadata": {
        "id": "7i5ZGXl3UCaK",
        "colab_type": "code",
        "colab": {
          "base_uri": "https://localhost:8080/",
          "height": 422
        },
        "outputId": "72189567-f92e-48a0-e287-1a37a0c858c6"
      },
      "source": [
        "import json\n",
        "import numpy as np\n",
        "\n",
        "data1 = np.ndarray([])\n",
        "i = 0\n",
        "with open('output.txt') as fin:\n",
        "    for i,line in enumerate(fin):\n",
        "        data = json.loads(line)\n",
        "        value = data['features'][0]['layers'][0]['values']\n",
        "        value = value/np.linalg.norm(value)\n",
        "        if i == 0:\n",
        "          data1 = value\n",
        "        else:\n",
        "          data1 = np.vstack((data1, value ) )\n",
        "          \n",
        "        if (i + 1 )% 1000 == 0:\n",
        "          print(value[0])\n",
        "\n",
        " "
      ],
      "execution_count": 3,
      "outputs": [
        {
          "output_type": "stream",
          "text": [
            "0.014171119270801722\n",
            "0.005800054664400617\n",
            "0.044185541400192145\n",
            "0.06742286188265184\n",
            "0.019006847661925647\n",
            "0.0438154435098609\n",
            "0.010119518200853123\n",
            "0.004365301355075212\n",
            "0.0156403062343755\n",
            "0.03644361103882034\n",
            "0.017667976891186567\n",
            "-0.0259967507410785\n",
            "0.025423051952224992\n",
            "0.01716848759033307\n",
            "0.028227958415249232\n",
            "-0.0015463641046876123\n",
            "0.04546685077384249\n",
            "0.04329154156220334\n",
            "0.027751727381377624\n",
            "0.05335159078340094\n",
            "0.019446352590464545\n",
            "0.026979546068716293\n",
            "0.01325555648652983\n",
            "0.013485765660977755\n"
          ],
          "name": "stdout"
        }
      ]
    },
    {
      "cell_type": "code",
      "metadata": {
        "id": "8do90W7wM4ak",
        "colab_type": "code",
        "colab": {}
      },
      "source": [
        "import numpy as np\n",
        "a = np.loadtxt('hisaka1.txt')"
      ],
      "execution_count": 0,
      "outputs": []
    },
    {
      "cell_type": "code",
      "metadata": {
        "id": "Mr2oceB6NK31",
        "colab_type": "code",
        "colab": {}
      },
      "source": [
        "a1 = a[:15000]\n",
        "a2 = a[15000:]"
      ],
      "execution_count": 0,
      "outputs": []
    },
    {
      "cell_type": "code",
      "metadata": {
        "id": "glQMJylcNNzO",
        "colab_type": "code",
        "colab": {}
      },
      "source": [
        "b1 = np.dot(a1,a1.T)"
      ],
      "execution_count": 0,
      "outputs": []
    },
    {
      "cell_type": "code",
      "metadata": {
        "id": "sxXrLLm4UnqC",
        "colab_type": "code",
        "colab": {}
      },
      "source": [
        "b2 = np.dot(a1,a2.T)"
      ],
      "execution_count": 0,
      "outputs": []
    },
    {
      "cell_type": "code",
      "metadata": {
        "id": "NNViR3T2UrE_",
        "colab_type": "code",
        "colab": {}
      },
      "source": [
        "b3 = np.dot(a2,a1.T)"
      ],
      "execution_count": 0,
      "outputs": []
    },
    {
      "cell_type": "code",
      "metadata": {
        "id": "rhz0qzJhUvLd",
        "colab_type": "code",
        "colab": {}
      },
      "source": [
        "b4 = np.dot(a2,a2.T)"
      ],
      "execution_count": 0,
      "outputs": []
    },
    {
      "cell_type": "code",
      "metadata": {
        "id": "0-Yr7hDCQPz6",
        "colab_type": "code",
        "colab": {}
      },
      "source": [
        "np.savetxt('b1.txt',b1)"
      ],
      "execution_count": 0,
      "outputs": []
    },
    {
      "cell_type": "code",
      "metadata": {
        "id": "cyuG9wmiU7ms",
        "colab_type": "code",
        "colab": {}
      },
      "source": [
        "np.savetxt('b2.txt',b2)"
      ],
      "execution_count": 0,
      "outputs": []
    },
    {
      "cell_type": "code",
      "metadata": {
        "id": "S1YTRQ3DU9zt",
        "colab_type": "code",
        "colab": {}
      },
      "source": [
        "np.savetxt('b3.txt',b3)"
      ],
      "execution_count": 0,
      "outputs": []
    },
    {
      "cell_type": "code",
      "metadata": {
        "id": "cFh7OhLNVAZd",
        "colab_type": "code",
        "colab": {}
      },
      "source": [
        "np.savetxt('b4.txt',b4)"
      ],
      "execution_count": 0,
      "outputs": []
    },
    {
      "cell_type": "code",
      "metadata": {
        "id": "a6UxaToSQVwZ",
        "colab_type": "code",
        "colab": {
          "base_uri": "https://localhost:8080/",
          "height": 236
        },
        "outputId": "51189367-1c59-413f-c9b2-6debebe7f976"
      },
      "source": [
        "b"
      ],
      "execution_count": 13,
      "outputs": [
        {
          "output_type": "execute_result",
          "data": {
            "text/plain": [
              "array([[1.        , 0.66253111, 0.77468838, ..., 0.82324855, 0.87658687,\n",
              "        0.81912808],\n",
              "       [0.66253111, 1.        , 0.72381507, ..., 0.67041444, 0.63106298,\n",
              "        0.69772067],\n",
              "       [0.77468838, 0.72381507, 1.        , ..., 0.77819966, 0.7583569 ,\n",
              "        0.82779748],\n",
              "       ...,\n",
              "       [0.82324855, 0.67041444, 0.77819966, ..., 1.        , 0.84078287,\n",
              "        0.86188496],\n",
              "       [0.87658687, 0.63106298, 0.7583569 , ..., 0.84078287, 1.        ,\n",
              "        0.81822517],\n",
              "       [0.81912808, 0.69772067, 0.82779748, ..., 0.86188496, 0.81822517,\n",
              "        1.        ]])"
            ]
          },
          "metadata": {
            "tags": []
          },
          "execution_count": 13
        }
      ]
    },
    {
      "cell_type": "code",
      "metadata": {
        "id": "VpZDvlaWIkXh",
        "colab_type": "code",
        "colab": {}
      },
      "source": [
        "np.savetxt('hisaka1.txt',data1)"
      ],
      "execution_count": 0,
      "outputs": []
    },
    {
      "cell_type": "code",
      "metadata": {
        "id": "5HMC1E7zguBR",
        "colab_type": "code",
        "colab": {}
      },
      "source": [
        "c = np.dot(data1,data1.T)\n"
      ],
      "execution_count": 0,
      "outputs": []
    },
    {
      "cell_type": "code",
      "metadata": {
        "id": "F90ZAe-gBqur",
        "colab_type": "code",
        "colab": {}
      },
      "source": [
        "np.savetxt('hisaka.txt',c)"
      ],
      "execution_count": 0,
      "outputs": []
    },
    {
      "cell_type": "code",
      "metadata": {
        "id": "fWfOkTtEBjGR",
        "colab_type": "code",
        "colab": {
          "base_uri": "https://localhost:8080/",
          "height": 236
        },
        "outputId": "26828128-30be-4cea-86e7-8a3adda6fef0"
      },
      "source": [
        "c"
      ],
      "execution_count": 38,
      "outputs": [
        {
          "output_type": "execute_result",
          "data": {
            "text/plain": [
              "array([[1.        , 0.66253111, 0.77468838, ..., 0.90355356, 0.84764607,\n",
              "        0.83430607],\n",
              "       [0.66253111, 1.        , 0.72381507, ..., 0.72273542, 0.7318715 ,\n",
              "        0.69949401],\n",
              "       [0.77468838, 0.72381507, 1.        , ..., 0.80718624, 0.73698685,\n",
              "        0.84746014],\n",
              "       ...,\n",
              "       [0.90355356, 0.72273542, 0.80718624, ..., 1.        , 0.87804896,\n",
              "        0.89486417],\n",
              "       [0.84764607, 0.7318715 , 0.73698685, ..., 0.87804896, 1.        ,\n",
              "        0.83137427],\n",
              "       [0.83430607, 0.69949401, 0.84746014, ..., 0.89486417, 0.83137427,\n",
              "        1.        ]])"
            ]
          },
          "metadata": {
            "tags": []
          },
          "execution_count": 38
        }
      ]
    },
    {
      "cell_type": "code",
      "metadata": {
        "id": "sbZu-UGTiSL1",
        "colab_type": "code",
        "colab": {}
      },
      "source": [
        "print( np.where(c> 0.92) )"
      ],
      "execution_count": 0,
      "outputs": []
    },
    {
      "cell_type": "code",
      "metadata": {
        "id": "4MhLH70pjc3N",
        "colab_type": "code",
        "colab": {}
      },
      "source": [
        "from google.colab import drive\n",
        "drive.mount('/content/drive')"
      ],
      "execution_count": 0,
      "outputs": []
    },
    {
      "cell_type": "code",
      "metadata": {
        "id": "2hUkE9pvZ9Ei",
        "colab_type": "code",
        "colab": {
          "base_uri": "https://localhost:8080/",
          "height": 118
        },
        "outputId": "516f9742-b845-4beb-a300-78ffd1d2e0f8"
      },
      "source": [
        "a = np.array([[1,2,3],[4,5,6],[7,8,9]])\n",
        "b = np.array([[10,20,30],[40,50,60],[70,80,90]])\n",
        "c = np.vstack((a,b))\n",
        "c"
      ],
      "execution_count": 43,
      "outputs": [
        {
          "output_type": "execute_result",
          "data": {
            "text/plain": [
              "array([[ 1,  2,  3],\n",
              "       [ 4,  5,  6],\n",
              "       [ 7,  8,  9],\n",
              "       [10, 20, 30],\n",
              "       [40, 50, 60],\n",
              "       [70, 80, 90]])"
            ]
          },
          "metadata": {
            "tags": []
          },
          "execution_count": 43
        }
      ]
    },
    {
      "cell_type": "code",
      "metadata": {
        "id": "O0-MD0XNgk-E",
        "colab_type": "code",
        "colab": {}
      },
      "source": [
        "c = np.vstack((c,b))"
      ],
      "execution_count": 0,
      "outputs": []
    },
    {
      "cell_type": "code",
      "metadata": {
        "id": "MEBvao0GgpvS",
        "colab_type": "code",
        "colab": {
          "base_uri": "https://localhost:8080/",
          "height": 169
        },
        "outputId": "2b1aa58d-67b6-4916-e86c-be46f46925ff"
      },
      "source": [
        "c"
      ],
      "execution_count": 45,
      "outputs": [
        {
          "output_type": "execute_result",
          "data": {
            "text/plain": [
              "array([[ 1,  2,  3],\n",
              "       [ 4,  5,  6],\n",
              "       [ 7,  8,  9],\n",
              "       [10, 20, 30],\n",
              "       [40, 50, 60],\n",
              "       [70, 80, 90],\n",
              "       [10, 20, 30],\n",
              "       [40, 50, 60],\n",
              "       [70, 80, 90]])"
            ]
          },
          "metadata": {
            "tags": []
          },
          "execution_count": 45
        }
      ]
    },
    {
      "cell_type": "code",
      "metadata": {
        "id": "r_SCNwxdXNtI",
        "colab_type": "code",
        "colab": {
          "base_uri": "https://localhost:8080/",
          "height": 34
        },
        "outputId": "253de758-a47b-4348-f4a9-b79e30366a47"
      },
      "source": [
        "type(data['features'][0]['layers'][0]['values'])"
      ],
      "execution_count": 23,
      "outputs": [
        {
          "output_type": "execute_result",
          "data": {
            "text/plain": [
              "list"
            ]
          },
          "metadata": {
            "tags": []
          },
          "execution_count": 23
        }
      ]
    },
    {
      "cell_type": "code",
      "metadata": {
        "colab_type": "code",
        "id": "xitplqMNk_Hc",
        "outputId": "ed4f60d2-878d-4056-c438-352dac39a112",
        "colab": {
          "height": 420
        }
      },
      "source": [
        "#@title Colaboratory の概要 { display-mode: \"form\" }\n",
        "#@markdown この 3 分間の動画では、Colaboratory の主な機能の概要をご紹介します。\n",
        "from IPython.display import YouTubeVideo\n",
        "YouTubeVideo('inN8seMm7UI', width=600, height=400)"
      ],
      "execution_count": 0,
      "outputs": [
        {
          "output_type": "execute_result",
          "data": {
            "text/html": [
              "\n",
              "        <iframe\n",
              "            width=\"600\"\n",
              "            height=\"400\"\n",
              "            src=\"https://www.youtube.com/embed/inN8seMm7UI\"\n",
              "            frameborder=\"0\"\n",
              "            allowfullscreen\n",
              "        ></iframe>\n",
              "        "
            ],
            "text/plain": [
              "<IPython.lib.display.YouTubeVideo at 0x7f956e9dda50>"
            ]
          },
          "metadata": {
            "tags": []
          },
          "execution_count": 0
        }
      ]
    },
    {
      "cell_type": "markdown",
      "metadata": {
        "colab_type": "text",
        "id": "GJBs_flRovLc"
      },
      "source": [
        "## はじめに\n",
        "\n",
        "ご覧になっているドキュメントは、Colaboratory でホストされている <a href=\"https://jupyter.org/\">Jupyter ノートブック</a>です。静的なページではなく、Python やその他の言語でコードを記述して実行できるインタラクティブな環境です。\n",
        "\n",
        "たとえば次の<strong>コードセル</strong>には、値を計算して変数に保存し、結果を出力する短い Python スクリプトが含まれています。"
      ]
    },
    {
      "cell_type": "code",
      "metadata": {
        "colab_type": "code",
        "id": "gJr_9dXGpJ05",
        "outputId": "5626194c-e802-4293-942d-2908885c3c1f",
        "colab": {
          "height": 35
        }
      },
      "source": [
        "seconds_in_a_day = 24 * 60 * 60\n",
        "seconds_in_a_day"
      ],
      "execution_count": 0,
      "outputs": [
        {
          "output_type": "execute_result",
          "data": {
            "text/plain": [
              "86400"
            ]
          },
          "metadata": {
            "tags": []
          },
          "execution_count": 0
        }
      ]
    },
    {
      "cell_type": "markdown",
      "metadata": {
        "colab_type": "text",
        "id": "2fhs6GZ4qFMx"
      },
      "source": [
        "上記のセルのコードを実行するには、セルをクリックして選択し、コードの左側にある再生ボタンをクリックするか、キーボード ショートカット「command+return」または「Ctrl+Enter」を使用します。\n",
        "\n",
        "すべてのセルで同じグローバル状態が変更されるため、セルの実行によって定義した変数を、他のセルで使用することができます。"
      ]
    },
    {
      "cell_type": "code",
      "metadata": {
        "colab_type": "code",
        "id": "-gE-Ez1qtyIA",
        "outputId": "8d2e4259-4682-4e19-b683-7b9087f28820",
        "colab": {
          "height": 35
        }
      },
      "source": [
        "seconds_in_a_week = 7 * seconds_in_a_day\n",
        "seconds_in_a_week"
      ],
      "execution_count": 0,
      "outputs": [
        {
          "output_type": "execute_result",
          "data": {
            "text/plain": [
              "604800"
            ]
          },
          "metadata": {
            "tags": []
          },
          "execution_count": 0
        }
      ]
    },
    {
      "cell_type": "markdown",
      "metadata": {
        "colab_type": "text",
        "id": "lSrWNr3MuFUS"
      },
      "source": [
        "Colaboratory ノートブックの操作について詳しくは、<a href=\"/notebooks/basic_features_overview.ipynb\">Colaboratory の概要</a>をご覧ください。\n"
      ]
    },
    {
      "cell_type": "markdown",
      "metadata": {
        "colab_type": "text",
        "id": "-Rh3-Vt9Nev9"
      },
      "source": [
        "## その他のリソース\n",
        "\n",
        "Python、Jupyter、Colaboratory、および関連するツールを最大限に活用する方法については、以下のリソースをご覧ください。\n",
        "\n",
        "### Colaboratory でのノートブックの操作\n",
        "- [Colaboratory の概要](/notebooks/basic_features_overview.ipynb)\n",
        "- [markdown のガイド](/notebooks/markdown_guide.ipynb)\n",
        "- [ライブラリのインポートと依存関係のインストール](/notebooks/snippets/importing_libraries.ipynb)\n",
        "- [GitHub でのノートブックの保存と読み込み](https://colab.research.google.com/github/googlecolab/colabtools/blob/master/notebooks/colab-github-demo.ipynb)\n",
        "- [インタラクティブなフォーム](/notebooks/forms.ipynb)\n",
        "- [インタラクティブなウィジェット](/notebooks/widgets.ipynb)\n",
        "\n",
        "### データの操作\n",
        "- [データの読み込み: ドライブ、スプレッドシート、Google Cloud Storage](/notebooks/io.ipynb) \n",
        "- [グラフ: データの視覚化](/notebooks/charts.ipynb)\n",
        "- [BigQuery を使ってみる](/notebooks/bigquery.ipynb)\n",
        "\n",
        "### 機械学習の集中講座\n",
        "Google の機械学習に関するオンライン コースからいくつかのノートブックをご紹介します。詳しくは、<a href=\"https://developers.google.com/machine-learning/crash-course/\">全コースのウェブサイト</a>をご覧ください。\n",
        "- [pandas の概要](/notebooks/mlcc/intro_to_pandas.ipynb)\n",
        "- [Tensorflow のコンセプト](/notebooks/mlcc/tensorflow_programming_concepts.ipynb)\n",
        "- [TensorFlow での最初の手順](/notebooks/mlcc/first_steps_with_tensor_flow.ipynb)\n",
        "- [ニューラル ネットの概要](/notebooks/mlcc/intro_to_neural_nets.ipynb)\n",
        "- [スパースデータと埋め込みの概要](/notebooks/mlcc/intro_to_sparse_data_and_embeddings.ipynb)\n",
        "\n",
        "### アクセラレータの使用\n",
        "- [TensorFlow と GPU](/notebooks/gpu.ipynb)\n",
        "- [TensorFlow と TPU](/notebooks/tpu.ipynb)"
      ]
    },
    {
      "cell_type": "markdown",
      "metadata": {
        "colab_type": "text",
        "id": "P-H6Lw1vyNNd"
      },
      "source": [
        "## 機械学習の例: Seedbank\n",
        "\n",
        "Colaboratory で実現されたインタラクティブな機械学習解析のさまざまな例を確認するには、<a href=\"https://research.google.com/seedbank/\">Seedbank</a> プロジェクトをご覧ください。\n",
        "\n",
        "おすすめの例をご紹介します。\n",
        "\n",
        "- <a href=\"https://research.google.com/seedbank/seed/neural_style_transfer_with_tfkeras\">ニューラル スタイル転送</a>: ディープ ラーニングを使用して画像間でスタイルを転送します。\n",
        "- <a href=\"https://research.google.com/seedbank/seed/ez_nsynth\">EZ NSynth</a>: 音声と WaveNet オートエンコーダを合成します。\n",
        "- <a href=\"https://research.google.com/seedbank/seed/fashion_mnist_with_keras_and_tpus\">Keras と TPU で Fashion MNIST</a>: ファッション関連の画像をディープ ラーニングで分類します。\n",
        "- <a href=\"https://research.google.com/seedbank/seed/deepdream\">DeepDream</a>: 独自の写真から DeepDream 画像を生成します。\n",
        "- <a href=\"https://research.google.com/seedbank/seed/convolutional_vae\">畳み込み VAE</a>: 手書きの数字の生成モデルを作成します。"
      ]
    }
  ]
}